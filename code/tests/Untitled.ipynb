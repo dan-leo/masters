{
 "cells": [
  {
   "cell_type": "code",
   "execution_count": 1,
   "metadata": {},
   "outputs": [],
   "source": [
    "import numpy as np\n",
    "import matplotlib.pyplot as plt\n",
    "import matplotlib.ticker as ticker"
   ]
  },
  {
   "cell_type": "code",
   "execution_count": 4,
   "metadata": {},
   "outputs": [
    {
     "data": {
      "text/plain": [
       "(array([2., 2., 2., 2., 1., 3., 4., 5., 5., 6., 6., 5., 5., 8., 7., 3., 3.,\n",
       "        1., 0., 2.]),\n",
       " array([237.782  , 272.81445, 307.8469 , 342.87935, 377.9118 , 412.94425,\n",
       "        447.9767 , 483.00915, 518.0416 , 553.07405, 588.1065 , 623.13895,\n",
       "        658.1714 , 693.20385, 728.2363 , 763.26875, 798.3012 , 833.33365,\n",
       "        868.3661 , 903.39855, 938.431  ]),\n",
       " <a list of 20 Patch objects>)"
      ]
     },
     "execution_count": 4,
     "metadata": {},
     "output_type": "execute_result"
    },
    {
     "data": {
      "image/png": "[encoded data removed]",
      "text/plain": [
       "<Figure size 432x288 with 1 Axes>"
      ]
     },
     "metadata": {
      "needs_background": "light"
     },
     "output_type": "display_data"
    }
   ],
   "source": [
    "data = [322.367, 248.186, 237.782, 516.728, 444.592, 434.931, 362.187, 352.951, 279.722, 414.580, 550.028, 476.832, 467.625, 394.365, 529.179, 311.986, 303.614, 642.097, 615.472, 560.212, 694.009, 477.801, 756.897, 730.703, 674.531, 808.334, 592.107, 565.914, 509.716, 788.500, 923.003, 706.777, 691.481, 623.933, 609.061, 557.864, 527.106, 806.116, 740.378, 724.193, 671.890, 632.567, 576.351, 710.139, 493.948, 787.744, 746.522, 690.323, 824.798, 608.270, 582.100, 525.873, 499.630, 938.431, 722.254, 696.513, 640.305, 614.036, 558.166, 532.896, 476.680, 755.497, 729.340, 673.068, 646.858, 590.655, 724.437, 507.773, 787.030, 760.826, 705.306, 839.122, ]\n",
    "plt.hist(data, bins=20)"
   ]
  },
  {
   "cell_type": "code",
   "execution_count": 5,
   "metadata": {},
   "outputs": [
    {
     "data": {
      "text/plain": [
       "(array([ 8.,  8., 25.,  2.,  8.,  9.,  4.,  5.,  3., 11.,  6., 14.,  4.,\n",
       "        10.,  8.,  6.,  7.,  7.,  2.,  2.]),\n",
       " array([ 33.323  ,  75.20015, 117.0773 , 158.95445, 200.8316 , 242.70875,\n",
       "        284.5859 , 326.46305, 368.3402 , 410.21735, 452.0945 , 493.97165,\n",
       "        535.8488 , 577.72595, 619.6031 , 661.48025, 703.3574 , 745.23455,\n",
       "        787.1117 , 828.98885, 870.866  ]),\n",
       " <a list of 20 Patch objects>)"
      ]
     },
     "execution_count": 5,
     "metadata": {},
     "output_type": "execute_result"
    },
    {
     "data": {
      "image/png": "[encoded data removed]",
      "text/plain": [
       "<Figure size 432x288 with 1 Axes>"
      ]
     },
     "metadata": {
      "needs_background": "light"
     },
     "output_type": "display_data"
    }
   ],
   "source": [
    "data = [696.820, 831.324, 615.106, 613.923, 532.715, 531.514, 439.447, 729.988, 728.846, 647.123, 646.805, 595.175, 563.976, 482.770, 761.573, 760.372, 669.850, 679.369, 598.177, 731.916, 514.836, 514.496, 792.843, 753.091, 870.866, 629.652, 628.454, 547.266, 545.985, 464.844, 743.680, 742.494, 662.094, 660.921, 580.649, 580.164, 498.956, 633.352, 777.012, 695.712, 694.490, 613.273, 747.099, 530.150, 529.449, 449.364, 521.486, 776.362, 751.599, 728.020, 828.203, 742.110, 607.217, 584.297, 235.037, 147.626, 148.450, 143.434, 204.709, 164.430, 142.455, 143.970, 145.027, 142.649, 142.484, 142.348, 139.062, 138.855, 139.392, 136.038, 135.941, 135.765, 132.509, 654.117, 152.088, 152.400, 171.899, 149.632, 149.409, 146.873, 146.690, 147.297, 143.233, 143.350, 212.771, 250.269, 44.409, 82.261, 446.263, 80.823, 280.061, 78.430, 207.386, 76.189, 276.358, 74.515, 33.323, 236.089, 110.687, 69.572, 588.775, 470.740, 105.775, 64.831, 103.496, 62.982, 267.300, 61.352, 100.243, 59.110, 319.026, 245.827, 236.642, 515.433, 442.273, 433.885, 360.796, 351.559, 278.341, 414.116, 548.859, 475.657, 467.165, 393.965, 527.450, 311.558, 302.350, 229.144, 508.571, 643.487, 426.244, 417.044, 343.860, 335.363, 262.852, 253.679, 532.529, 459.268, 450.088, 376.241, 519.824, 403.233, 329.899, 320.702, 247.495, 238.719, 517.483, 444.285, 434.746, ]\n",
    "plt.hist(data, bins=20)"
   ]
  },
  {
   "cell_type": "code",
   "execution_count": null,
   "metadata": {},
   "outputs": [],
   "source": []
  }
 ],
 "metadata": {
  "kernelspec": {
   "display_name": "Python 3",
   "language": "python",
   "name": "python3"
  },
  "language_info": {
   "codemirror_mode": {
    "name": "ipython",
    "version": 3
   },
   "file_extension": ".py",
   "mimetype": "text/x-python",
   "name": "python",
   "nbconvert_exporter": "python",
   "pygments_lexer": "ipython3",
   "version": "3.6.8"
  }
 },
 "nbformat": 4,
 "nbformat_minor": 4
}
