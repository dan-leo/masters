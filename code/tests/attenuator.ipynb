{
 "cells": [
  {
   "cell_type": "code",
   "execution_count": 4,
   "metadata": {},
   "outputs": [],
   "source": [
    "import numpy as np\n",
    "import matplotlib.pyplot as plt\n",
    "import jupyter as j\n",
    "import importlib\n",
    "import pandas as pd\n",
    "import seaborn as sns\n",
    "importlib.reload(j)\n",
    "\n",
    "import matplotlib.ticker as ticker\n",
    "import glob\n",
    "\n",
    "import plotter as p\n",
    "importlib.reload(p)\n",
    "\n",
    "dirrs = ['logs/zte_mtn/rf_shield/ublox/', 'logs/nokia_vodacom/centurycity/ublox/', 'logs/zte_mtn/rf_shield/quectel/', 'logs/nokia_vodacom/centurycity/quectel/']"
   ]
  },
  {
   "cell_type": "code",
   "execution_count": 80,
   "metadata": {},
   "outputs": [],
   "source": [
    "def attdt():\n",
    "    atf = {}\n",
    "    atten = np.arange(0, 50, 10)\n",
    "    for at in atten:\n",
    "        atf[str(at) + ' dB'] = []\n",
    "    atf['50-110 dB'] = []\n",
    "    return atf\n",
    "\n",
    "def p4():\n",
    "    # 4x4 plotter\n",
    "    paxis = []\n",
    "    haxis = []\n",
    "    hist = []\n",
    "    fy = 8\n",
    "    fx = 12\n",
    "    fig = plt.figure(figsize=(fx, fy))\n",
    "    for di, dirr in enumerate(dirrs):\n",
    "        print(dirr)\n",
    "        ####################### file prep #######################\n",
    "        atf = attdt()\n",
    "        atten = np.arange(110, -1, -10)\n",
    "        # starfolder = 'release/release128/*'\n",
    "        for starfolder in files:\n",
    "            subfiles = glob.glob(dirr + starfolder)\n",
    "            for file in subfiles:\n",
    "                f = file.split('\\\\')[-1]\n",
    "                for atn in atten:\n",
    "                    if str(atn) in f:\n",
    "                        # print(atn, file)\n",
    "                        if atn >= 50:\n",
    "                            atf['50-110 dB'].append(file)\n",
    "                        else:\n",
    "                            atf[str(atn) + ' dB'].append(file)\n",
    "                        break\n",
    "                else:\n",
    "                    print('else', file)\n",
    "                    atf['50-110 dB'].append(file)\n",
    "\n",
    "        ####################### database {} prep #######################\n",
    "\n",
    "        atd = attdt()\n",
    "        for k in atf:\n",
    "            # print(k, atf[k])\n",
    "            for f in atf[k]:\n",
    "                c = j.csvToDict(f)\n",
    "                dp = j.dataProcess(c)\n",
    "                atd[k].append(dp)\n",
    "            atd[k] = j.merge(atd[k])\n",
    "            # print('atd[k]', len(atd[k]))\n",
    "\n",
    "        ####################### scatter #######################\n",
    "        # fig = plt.figure()\n",
    "        ax = fig.add_subplot(2, 2, di + 1)\n",
    "        y = []\n",
    "        x = []\n",
    "        ka = []\n",
    "\n",
    "        for i, k in enumerate(atd):\n",
    "            try:\n",
    "                ka.append(k)\n",
    "                xx = np.array(atd[k][kx])\n",
    "                yy = np.array(atd[k][ky])\n",
    "                r = xx == xx\n",
    "                r *= xx < -100\n",
    "                r *= xx > -2000\n",
    "                r2 = yy == yy\n",
    "                r *= yy > 0\n",
    "                r *= r2\n",
    "                yy /= 1000\n",
    "                ax.scatter(xx[r], yy[r], linestyle='dotted', color=cc[i], label=k)\n",
    "                x.append(xx[r])\n",
    "                y.append(yy[r])\n",
    "            except (KeyError, IndexError) as e:\n",
    "                print(e)\n",
    "        hist.append([x, y])\n",
    "        # ax = plt.gca()\n",
    "        paxis.append(ax)\n",
    "        ax.set_yscale('log')\n",
    "        ax.set_xlim(plimx)\n",
    "        ax.set_ylim(plimy)\n",
    "        ax.yaxis.set_major_formatter(ticker.FuncFormatter(lambda y,pos: ('{{:.{:1d}f}}'.format(int(np.maximum(-np.log10(max(y, 0.01)),0)))).format(y)))\n",
    "        ax.legend()#bbox_to_anchor=(0.97, 1.15))\n",
    "\n",
    "    plt.show()\n",
    "\n",
    "    fy = 8\n",
    "    fx = 12\n",
    "    fig = plt.figure(figsize=(fx, fy))\n",
    "\n",
    "    ####################### histogram #######################\n",
    "    for hi, h in enumerate(hist):\n",
    "        y = h[1]\n",
    "        # fig = plt.figure()\n",
    "        ax = fig.add_subplot(2, 2, hi + 1)\n",
    "        try:\n",
    "            data = np.concatenate(np.ravel(y))\n",
    "        except ValueError:\n",
    "            data = np.ravel(y)\n",
    "        finally:\n",
    "            _, lbins = np.histogram(data, bins=10)\n",
    "            if not limited:\n",
    "                logbins = np.logspace(np.log10(lbins[0]), np.log10(lbins[-1]), len(lbins))\n",
    "            else:\n",
    "                logbins = np.logspace(np.log10(hlimy[0]), np.log10(hlimy[1]), len(lbins))\n",
    "            # ax = plt.gca()\n",
    "            haxis.append(ax)\n",
    "            n, rbins, _ = ax.hist(y, bins=logbins, log=True, range=hlimy, stacked=True)\n",
    "            plt.xscale('log')\n",
    "\n",
    "        ax.set_xlim(hlimx)\n",
    "        # ax.set_ylim(hlimy)\n",
    "\n",
    "        for axis in [ax.xaxis, ax.yaxis]:\n",
    "            axis.set_major_formatter(ticker.FuncFormatter(lambda y,pos: ('{{:.{:1d}f}}'.format(int(np.maximum(-np.log10(max(y, 0.01)),0)))).format(y)))\n",
    "\n",
    "\n",
    "    if not limited:\n",
    "        # pxmin = pymin = pxmax = pymax = 1\n",
    "        # hxmin = hymin = hxmax = hymax = 1\n",
    "        plim = [1000, -1000]*2\n",
    "        hlim = [1000, -1000]*2\n",
    "        for pax, hax in zip(paxis, haxis):\n",
    "            for i, p in enumerate(pax.axis()):\n",
    "                plim[i] = min(plim[i], p) if i in [0, 2] else max(plim[i], p)\n",
    "            for i, h in enumerate(hax.axis()):\n",
    "                hlim[i] = min(hlim[i], h) if i in [0, 2] else max(hlim[i], h)\n",
    "        for pax, hax in zip(paxis, haxis):\n",
    "            pax.set_xlim(plim[:2])\n",
    "            pax.set_ylim(plim[2:])\n",
    "            hax.set_xlim(hlim[:2])\n",
    "            hax.set_ylim(hlim[2:])\n",
    "            for axis in [pax.yaxis, hax.yaxis]:\n",
    "                axis.set_major_formatter(ticker.FuncFormatter(lambda y,pos: ('{{:.{:1d}f}}'.format(int(np.maximum(-np.log10(max(y, 0.01)),0)))).format(y)))\n",
    "        np.set_printoptions(precision=0, suppress=True)        \n",
    "        print('plimx=', np.array(plim[:2]))\n",
    "        print('plimy=', np.array(plim[2:]))\n",
    "        print('hlimx=', np.array(hlim[:2]))\n",
    "        print('hlimy=', np.array(hlim[2:]))\n",
    "\n",
    "    plt.show()\n",
    "    # plt.xscale('log')"
   ]
  },
  {
   "cell_type": "code",
   "execution_count": 136,
   "metadata": {},
   "outputs": [
    {
     "data": {
      "text/plain": [
       "[[1.1, 1.1], [1.1, 1.1, 1.1]]"
      ]
     },
     "execution_count": 136,
     "metadata": {},
     "output_type": "execute_result"
    }
   ],
   "source": [
    "[[1.1 for b in a] for a in [[1,2], [3,4,5]]]"
   ]
  },
  {
   "cell_type": "code",
   "execution_count": 74,
   "metadata": {},
   "outputs": [],
   "source": []
  },
  {
   "cell_type": "code",
   "execution_count": 125,
   "metadata": {
    "collapsed": true,
    "jupyter": {
     "outputs_hidden": true
    }
   },
   "outputs": [
    {
     "data": {
      "text/plain": [
       "\u001b[1;31mSignature:\u001b[0m\n",
       "\u001b[0msns\u001b[0m\u001b[1;33m.\u001b[0m\u001b[0mdistplot\u001b[0m\u001b[1;33m(\u001b[0m\u001b[1;33m\n",
       "\u001b[0m    \u001b[0ma\u001b[0m\u001b[1;33m,\u001b[0m\u001b[1;33m\n",
       "\u001b[0m    \u001b[0mbins\u001b[0m\u001b[1;33m=\u001b[0m\u001b[1;32mNone\u001b[0m\u001b[1;33m,\u001b[0m\u001b[1;33m\n",
       "\u001b[0m    \u001b[0mhist\u001b[0m\u001b[1;33m=\u001b[0m\u001b[1;32mTrue\u001b[0m\u001b[1;33m,\u001b[0m\u001b[1;33m\n",
       "\u001b[0m    \u001b[0mkde\u001b[0m\u001b[1;33m=\u001b[0m\u001b[1;32mTrue\u001b[0m\u001b[1;33m,\u001b[0m\u001b[1;33m\n",
       "\u001b[0m    \u001b[0mrug\u001b[0m\u001b[1;33m=\u001b[0m\u001b[1;32mFalse\u001b[0m\u001b[1;33m,\u001b[0m\u001b[1;33m\n",
       "\u001b[0m    \u001b[0mfit\u001b[0m\u001b[1;33m=\u001b[0m\u001b[1;32mNone\u001b[0m\u001b[1;33m,\u001b[0m\u001b[1;33m\n",
       "\u001b[0m    \u001b[0mhist_kws\u001b[0m\u001b[1;33m=\u001b[0m\u001b[1;32mNone\u001b[0m\u001b[1;33m,\u001b[0m\u001b[1;33m\n",
       "\u001b[0m    \u001b[0mkde_kws\u001b[0m\u001b[1;33m=\u001b[0m\u001b[1;32mNone\u001b[0m\u001b[1;33m,\u001b[0m\u001b[1;33m\n",
       "\u001b[0m    \u001b[0mrug_kws\u001b[0m\u001b[1;33m=\u001b[0m\u001b[1;32mNone\u001b[0m\u001b[1;33m,\u001b[0m\u001b[1;33m\n",
       "\u001b[0m    \u001b[0mfit_kws\u001b[0m\u001b[1;33m=\u001b[0m\u001b[1;32mNone\u001b[0m\u001b[1;33m,\u001b[0m\u001b[1;33m\n",
       "\u001b[0m    \u001b[0mcolor\u001b[0m\u001b[1;33m=\u001b[0m\u001b[1;32mNone\u001b[0m\u001b[1;33m,\u001b[0m\u001b[1;33m\n",
       "\u001b[0m    \u001b[0mvertical\u001b[0m\u001b[1;33m=\u001b[0m\u001b[1;32mFalse\u001b[0m\u001b[1;33m,\u001b[0m\u001b[1;33m\n",
       "\u001b[0m    \u001b[0mnorm_hist\u001b[0m\u001b[1;33m=\u001b[0m\u001b[1;32mFalse\u001b[0m\u001b[1;33m,\u001b[0m\u001b[1;33m\n",
       "\u001b[0m    \u001b[0maxlabel\u001b[0m\u001b[1;33m=\u001b[0m\u001b[1;32mNone\u001b[0m\u001b[1;33m,\u001b[0m\u001b[1;33m\n",
       "\u001b[0m    \u001b[0mlabel\u001b[0m\u001b[1;33m=\u001b[0m\u001b[1;32mNone\u001b[0m\u001b[1;33m,\u001b[0m\u001b[1;33m\n",
       "\u001b[0m    \u001b[0max\u001b[0m\u001b[1;33m=\u001b[0m\u001b[1;32mNone\u001b[0m\u001b[1;33m,\u001b[0m\u001b[1;33m\n",
       "\u001b[0m\u001b[1;33m)\u001b[0m\u001b[1;33m\u001b[0m\u001b[1;33m\u001b[0m\u001b[0m\n",
       "\u001b[1;31mDocstring:\u001b[0m\n",
       "Flexibly plot a univariate distribution of observations.\n",
       "\n",
       "This function combines the matplotlib ``hist`` function (with automatic\n",
       "calculation of a good default bin size) with the seaborn :func:`kdeplot`\n",
       "and :func:`rugplot` functions. It can also fit ``scipy.stats``\n",
       "distributions and plot the estimated PDF over the data.\n",
       "\n",
       "Parameters\n",
       "----------\n",
       "\n",
       "a : Series, 1d-array, or list.\n",
       "    Observed data. If this is a Series object with a ``name`` attribute,\n",
       "    the name will be used to label the data axis.\n",
       "bins : argument for matplotlib hist(), or None, optional\n",
       "    Specification of hist bins, or None to use Freedman-Diaconis rule.\n",
       "hist : bool, optional\n",
       "    Whether to plot a (normed) histogram.\n",
       "kde : bool, optional\n",
       "    Whether to plot a gaussian kernel density estimate.\n",
       "rug : bool, optional\n",
       "    Whether to draw a rugplot on the support axis.\n",
       "fit : random variable object, optional\n",
       "    An object with `fit` method, returning a tuple that can be passed to a\n",
       "    `pdf` method a positional arguments following an grid of values to\n",
       "    evaluate the pdf on.\n",
       "{hist, kde, rug, fit}_kws : dictionaries, optional\n",
       "    Keyword arguments for underlying plotting functions.\n",
       "color : matplotlib color, optional\n",
       "    Color to plot everything but the fitted curve in.\n",
       "vertical : bool, optional\n",
       "    If True, observed values are on y-axis.\n",
       "norm_hist : bool, optional\n",
       "    If True, the histogram height shows a density rather than a count.\n",
       "    This is implied if a KDE or fitted density is plotted.\n",
       "axlabel : string, False, or None, optional\n",
       "    Name for the support axis label. If None, will try to get it\n",
       "    from a.namel if False, do not set a label.\n",
       "label : string, optional\n",
       "    Legend label for the relevent component of the plot\n",
       "ax : matplotlib axis, optional\n",
       "    if provided, plot on this axis\n",
       "\n",
       "Returns\n",
       "-------\n",
       "ax : matplotlib Axes\n",
       "    Returns the Axes object with the plot for further tweaking.\n",
       "\n",
       "See Also\n",
       "--------\n",
       "kdeplot : Show a univariate or bivariate distribution with a kernel\n",
       "          density estimate.\n",
       "rugplot : Draw small vertical lines to show each observation in a\n",
       "          distribution.\n",
       "\n",
       "Examples\n",
       "--------\n",
       "\n",
       "Show a default plot with a kernel density estimate and histogram with bin\n",
       "size determined automatically with a reference rule:\n",
       "\n",
       ".. plot::\n",
       "    :context: close-figs\n",
       "\n",
       "    >>> import seaborn as sns, numpy as np\n",
       "    >>> sns.set(); np.random.seed(0)\n",
       "    >>> x = np.random.randn(100)\n",
       "    >>> ax = sns.distplot(x)\n",
       "\n",
       "Use Pandas objects to get an informative axis label:\n",
       "\n",
       ".. plot::\n",
       "    :context: close-figs\n",
       "\n",
       "    >>> import pandas as pd\n",
       "    >>> x = pd.Series(x, name=\"x variable\")\n",
       "    >>> ax = sns.distplot(x)\n",
       "\n",
       "Plot the distribution with a kernel density estimate and rug plot:\n",
       "\n",
       ".. plot::\n",
       "    :context: close-figs\n",
       "\n",
       "    >>> ax = sns.distplot(x, rug=True, hist=False)\n",
       "\n",
       "Plot the distribution with a histogram and maximum likelihood gaussian\n",
       "distribution fit:\n",
       "\n",
       ".. plot::\n",
       "    :context: close-figs\n",
       "\n",
       "    >>> from scipy.stats import norm\n",
       "    >>> ax = sns.distplot(x, fit=norm, kde=False)\n",
       "\n",
       "Plot the distribution on the vertical axis:\n",
       "\n",
       ".. plot::\n",
       "    :context: close-figs\n",
       "\n",
       "    >>> ax = sns.distplot(x, vertical=True)\n",
       "\n",
       "Change the color of all the plot elements:\n",
       "\n",
       ".. plot::\n",
       "    :context: close-figs\n",
       "\n",
       "    >>> sns.set_color_codes()\n",
       "    >>> ax = sns.distplot(x, color=\"y\")\n",
       "\n",
       "Pass specific parameters to the underlying plot functions:\n",
       "\n",
       ".. plot::\n",
       "    :context: close-figs\n",
       "\n",
       "    >>> ax = sns.distplot(x, rug=True, rug_kws={\"color\": \"g\"},\n",
       "    ...                   kde_kws={\"color\": \"k\", \"lw\": 3, \"label\": \"KDE\"},\n",
       "    ...                   hist_kws={\"histtype\": \"step\", \"linewidth\": 3,\n",
       "    ...                             \"alpha\": 1, \"color\": \"g\"})\n",
       "\u001b[1;31mFile:\u001b[0m      c:\\users\\d7rob\\appdata\\local\\programs\\python\\python37\\lib\\site-packages\\seaborn\\distributions.py\n",
       "\u001b[1;31mType:\u001b[0m      function\n"
      ]
     },
     "metadata": {},
     "output_type": "display_data"
    }
   ],
   "source": [
    "sns.distplot?"
   ]
  },
  {
   "cell_type": "code",
   "execution_count": 15,
   "metadata": {
    "collapsed": true,
    "jupyter": {
     "outputs_hidden": true,
     "source_hidden": true
    }
   },
   "outputs": [
    {
     "name": "stdout",
     "output_type": "stream",
     "text": [
      "['drx/cap/*']\n",
      "logs/zte_mtn/rf_shield/ublox/\n",
      "logs/nokia_vodacom/centurycity/ublox/\n",
      "logs/zte_mtn/rf_shield/quectel/\n",
      "logs/nokia_vodacom/centurycity/quectel/\n"
     ]
    },
    {
     "ename": "LinAlgError",
     "evalue": "singular matrix",
     "output_type": "error",
     "traceback": [
      "\u001b[1;31m---------------------------------------------------------------------------\u001b[0m",
      "\u001b[1;31mLinAlgError\u001b[0m                               Traceback (most recent call last)",
      "\u001b[1;32m<ipython-input-15-1bca5ea8579a>\u001b[0m in \u001b[0;36m<module>\u001b[1;34m\u001b[0m\n\u001b[0;32m     32\u001b[0m     \u001b[0mhistlim\u001b[0m \u001b[1;33m=\u001b[0m \u001b[1;33m[\u001b[0m\u001b[0mx\u001b[0m\u001b[1;33m,\u001b[0m \u001b[0my\u001b[0m\u001b[1;33m,\u001b[0m \u001b[0mpercx\u001b[0m\u001b[1;33m*\u001b[0m\u001b[1;36m10\u001b[0m\u001b[1;33m,\u001b[0m \u001b[0mpercy\u001b[0m\u001b[1;33m*\u001b[0m\u001b[1;36m10\u001b[0m\u001b[1;33m]\u001b[0m\u001b[1;33m\u001b[0m\u001b[1;33m\u001b[0m\u001b[0m\n\u001b[0;32m     33\u001b[0m \u001b[1;33m\u001b[0m\u001b[0m\n\u001b[1;32m---> 34\u001b[1;33m \u001b[0mp\u001b[0m\u001b[1;33m.\u001b[0m\u001b[0mpan4\u001b[0m\u001b[1;33m(\u001b[0m\u001b[1;34m'drx_'\u001b[0m \u001b[1;33m+\u001b[0m \u001b[0mky\u001b[0m\u001b[1;33m,\u001b[0m \u001b[0mdirrs\u001b[0m\u001b[1;33m,\u001b[0m \u001b[0mfiles\u001b[0m\u001b[1;33m,\u001b[0m \u001b[0mkx\u001b[0m\u001b[1;33m,\u001b[0m \u001b[0mky\u001b[0m\u001b[1;33m,\u001b[0m \u001b[0mthresh\u001b[0m\u001b[1;33m,\u001b[0m \u001b[0mplotlim\u001b[0m\u001b[1;33m,\u001b[0m \u001b[0mdistlim\u001b[0m\u001b[1;33m,\u001b[0m \u001b[0mhistlim\u001b[0m\u001b[1;33m,\u001b[0m \u001b[0mscale\u001b[0m\u001b[1;33m,\u001b[0m \u001b[0mlimited\u001b[0m\u001b[1;33m,\u001b[0m \u001b[0mbins\u001b[0m\u001b[1;33m=\u001b[0m\u001b[1;36m40\u001b[0m\u001b[1;33m)\u001b[0m\u001b[1;33m\u001b[0m\u001b[1;33m\u001b[0m\u001b[0m\n\u001b[0m",
      "\u001b[1;32mC:\\GIT\\masters\\code\\tests\\plotter.py\u001b[0m in \u001b[0;36mpan4\u001b[1;34m(name, dirrs, files, kx, ky, thresh, plotlim, distlim, histlim, scale, limited, bins)\u001b[0m\n\u001b[0;32m    126\u001b[0m                      \u001b[0max\u001b[0m\u001b[1;33m=\u001b[0m\u001b[0max\u001b[0m\u001b[1;33m,\u001b[0m\u001b[1;33m\u001b[0m\u001b[1;33m\u001b[0m\u001b[0m\n\u001b[0;32m    127\u001b[0m                      \u001b[0mnorm_hist\u001b[0m\u001b[1;33m=\u001b[0m\u001b[1;32mTrue\u001b[0m\u001b[1;33m,\u001b[0m\u001b[1;33m\u001b[0m\u001b[1;33m\u001b[0m\u001b[0m\n\u001b[1;32m--> 128\u001b[1;33m                      hist_kws={'edgecolor':'black'})\n\u001b[0m\u001b[0;32m    129\u001b[0m     \u001b[1;32mif\u001b[0m \u001b[0mlimited\u001b[0m\u001b[1;33m:\u001b[0m\u001b[1;33m\u001b[0m\u001b[1;33m\u001b[0m\u001b[0m\n\u001b[0;32m    130\u001b[0m         \u001b[0max\u001b[0m\u001b[1;33m.\u001b[0m\u001b[0mset_xlim\u001b[0m\u001b[1;33m(\u001b[0m\u001b[0mdistlim\u001b[0m\u001b[1;33m[\u001b[0m\u001b[1;33m:\u001b[0m\u001b[1;36m2\u001b[0m\u001b[1;33m]\u001b[0m\u001b[1;33m[\u001b[0m\u001b[1;36m0\u001b[0m\u001b[1;33m]\u001b[0m\u001b[1;33m,\u001b[0m \u001b[0mdistlim\u001b[0m\u001b[1;33m[\u001b[0m\u001b[1;33m:\u001b[0m\u001b[1;36m2\u001b[0m\u001b[1;33m]\u001b[0m\u001b[1;33m[\u001b[0m\u001b[1;36m1\u001b[0m\u001b[1;33m]\u001b[0m\u001b[1;33m/\u001b[0m\u001b[1;36m4\u001b[0m\u001b[1;33m)\u001b[0m\u001b[1;33m\u001b[0m\u001b[1;33m\u001b[0m\u001b[0m\n",
      "\u001b[1;32mc:\\users\\d7rob\\appdata\\local\\programs\\python\\python37\\lib\\site-packages\\seaborn\\distributions.py\u001b[0m in \u001b[0;36mdistplot\u001b[1;34m(a, bins, hist, kde, rug, fit, hist_kws, kde_kws, rug_kws, fit_kws, color, vertical, norm_hist, axlabel, label, ax)\u001b[0m\n\u001b[0;32m    229\u001b[0m     \u001b[1;32mif\u001b[0m \u001b[0mkde\u001b[0m\u001b[1;33m:\u001b[0m\u001b[1;33m\u001b[0m\u001b[1;33m\u001b[0m\u001b[0m\n\u001b[0;32m    230\u001b[0m         \u001b[0mkde_color\u001b[0m \u001b[1;33m=\u001b[0m \u001b[0mkde_kws\u001b[0m\u001b[1;33m.\u001b[0m\u001b[0mpop\u001b[0m\u001b[1;33m(\u001b[0m\u001b[1;34m\"color\"\u001b[0m\u001b[1;33m,\u001b[0m \u001b[0mcolor\u001b[0m\u001b[1;33m)\u001b[0m\u001b[1;33m\u001b[0m\u001b[1;33m\u001b[0m\u001b[0m\n\u001b[1;32m--> 231\u001b[1;33m         \u001b[0mkdeplot\u001b[0m\u001b[1;33m(\u001b[0m\u001b[0ma\u001b[0m\u001b[1;33m,\u001b[0m \u001b[0mvertical\u001b[0m\u001b[1;33m=\u001b[0m\u001b[0mvertical\u001b[0m\u001b[1;33m,\u001b[0m \u001b[0max\u001b[0m\u001b[1;33m=\u001b[0m\u001b[0max\u001b[0m\u001b[1;33m,\u001b[0m \u001b[0mcolor\u001b[0m\u001b[1;33m=\u001b[0m\u001b[0mkde_color\u001b[0m\u001b[1;33m,\u001b[0m \u001b[1;33m**\u001b[0m\u001b[0mkde_kws\u001b[0m\u001b[1;33m)\u001b[0m\u001b[1;33m\u001b[0m\u001b[1;33m\u001b[0m\u001b[0m\n\u001b[0m\u001b[0;32m    232\u001b[0m         \u001b[1;32mif\u001b[0m \u001b[0mkde_color\u001b[0m \u001b[1;33m!=\u001b[0m \u001b[0mcolor\u001b[0m\u001b[1;33m:\u001b[0m\u001b[1;33m\u001b[0m\u001b[1;33m\u001b[0m\u001b[0m\n\u001b[0;32m    233\u001b[0m             \u001b[0mkde_kws\u001b[0m\u001b[1;33m[\u001b[0m\u001b[1;34m\"color\"\u001b[0m\u001b[1;33m]\u001b[0m \u001b[1;33m=\u001b[0m \u001b[0mkde_color\u001b[0m\u001b[1;33m\u001b[0m\u001b[1;33m\u001b[0m\u001b[0m\n",
      "\u001b[1;32mc:\\users\\d7rob\\appdata\\local\\programs\\python\\python37\\lib\\site-packages\\seaborn\\distributions.py\u001b[0m in \u001b[0;36mkdeplot\u001b[1;34m(data, data2, shade, vertical, kernel, bw, gridsize, cut, clip, legend, cumulative, shade_lowest, cbar, cbar_ax, cbar_kws, ax, **kwargs)\u001b[0m\n\u001b[0;32m    689\u001b[0m         ax = _univariate_kdeplot(data, shade, vertical, kernel, bw,\n\u001b[0;32m    690\u001b[0m                                  \u001b[0mgridsize\u001b[0m\u001b[1;33m,\u001b[0m \u001b[0mcut\u001b[0m\u001b[1;33m,\u001b[0m \u001b[0mclip\u001b[0m\u001b[1;33m,\u001b[0m \u001b[0mlegend\u001b[0m\u001b[1;33m,\u001b[0m \u001b[0max\u001b[0m\u001b[1;33m,\u001b[0m\u001b[1;33m\u001b[0m\u001b[1;33m\u001b[0m\u001b[0m\n\u001b[1;32m--> 691\u001b[1;33m                                  cumulative=cumulative, **kwargs)\n\u001b[0m\u001b[0;32m    692\u001b[0m \u001b[1;33m\u001b[0m\u001b[0m\n\u001b[0;32m    693\u001b[0m     \u001b[1;32mreturn\u001b[0m \u001b[0max\u001b[0m\u001b[1;33m\u001b[0m\u001b[1;33m\u001b[0m\u001b[0m\n",
      "\u001b[1;32mc:\\users\\d7rob\\appdata\\local\\programs\\python\\python37\\lib\\site-packages\\seaborn\\distributions.py\u001b[0m in \u001b[0;36m_univariate_kdeplot\u001b[1;34m(data, shade, vertical, kernel, bw, gridsize, cut, clip, legend, ax, cumulative, **kwargs)\u001b[0m\n\u001b[0;32m    292\u001b[0m                               \u001b[1;34m\"only implemented in statsmodels.\"\u001b[0m\u001b[1;33m\u001b[0m\u001b[1;33m\u001b[0m\u001b[0m\n\u001b[0;32m    293\u001b[0m                               \"Please install statsmodels.\")\n\u001b[1;32m--> 294\u001b[1;33m         \u001b[0mx\u001b[0m\u001b[1;33m,\u001b[0m \u001b[0my\u001b[0m \u001b[1;33m=\u001b[0m \u001b[0m_scipy_univariate_kde\u001b[0m\u001b[1;33m(\u001b[0m\u001b[0mdata\u001b[0m\u001b[1;33m,\u001b[0m \u001b[0mbw\u001b[0m\u001b[1;33m,\u001b[0m \u001b[0mgridsize\u001b[0m\u001b[1;33m,\u001b[0m \u001b[0mcut\u001b[0m\u001b[1;33m,\u001b[0m \u001b[0mclip\u001b[0m\u001b[1;33m)\u001b[0m\u001b[1;33m\u001b[0m\u001b[1;33m\u001b[0m\u001b[0m\n\u001b[0m\u001b[0;32m    295\u001b[0m \u001b[1;33m\u001b[0m\u001b[0m\n\u001b[0;32m    296\u001b[0m     \u001b[1;31m# Make sure the density is nonnegative\u001b[0m\u001b[1;33m\u001b[0m\u001b[1;33m\u001b[0m\u001b[1;33m\u001b[0m\u001b[0m\n",
      "\u001b[1;32mc:\\users\\d7rob\\appdata\\local\\programs\\python\\python37\\lib\\site-packages\\seaborn\\distributions.py\u001b[0m in \u001b[0;36m_scipy_univariate_kde\u001b[1;34m(data, bw, gridsize, cut, clip)\u001b[0m\n\u001b[0;32m    364\u001b[0m     \u001b[1;34m\"\"\"Compute a univariate kernel density estimate using scipy.\"\"\"\u001b[0m\u001b[1;33m\u001b[0m\u001b[1;33m\u001b[0m\u001b[0m\n\u001b[0;32m    365\u001b[0m     \u001b[1;32mtry\u001b[0m\u001b[1;33m:\u001b[0m\u001b[1;33m\u001b[0m\u001b[1;33m\u001b[0m\u001b[0m\n\u001b[1;32m--> 366\u001b[1;33m         \u001b[0mkde\u001b[0m \u001b[1;33m=\u001b[0m \u001b[0mstats\u001b[0m\u001b[1;33m.\u001b[0m\u001b[0mgaussian_kde\u001b[0m\u001b[1;33m(\u001b[0m\u001b[0mdata\u001b[0m\u001b[1;33m,\u001b[0m \u001b[0mbw_method\u001b[0m\u001b[1;33m=\u001b[0m\u001b[0mbw\u001b[0m\u001b[1;33m)\u001b[0m\u001b[1;33m\u001b[0m\u001b[1;33m\u001b[0m\u001b[0m\n\u001b[0m\u001b[0;32m    367\u001b[0m     \u001b[1;32mexcept\u001b[0m \u001b[0mTypeError\u001b[0m\u001b[1;33m:\u001b[0m\u001b[1;33m\u001b[0m\u001b[1;33m\u001b[0m\u001b[0m\n\u001b[0;32m    368\u001b[0m         \u001b[0mkde\u001b[0m \u001b[1;33m=\u001b[0m \u001b[0mstats\u001b[0m\u001b[1;33m.\u001b[0m\u001b[0mgaussian_kde\u001b[0m\u001b[1;33m(\u001b[0m\u001b[0mdata\u001b[0m\u001b[1;33m)\u001b[0m\u001b[1;33m\u001b[0m\u001b[1;33m\u001b[0m\u001b[0m\n",
      "\u001b[1;32mc:\\users\\d7rob\\appdata\\local\\programs\\python\\python37\\lib\\site-packages\\scipy\\stats\\kde.py\u001b[0m in \u001b[0;36m__init__\u001b[1;34m(self, dataset, bw_method, weights)\u001b[0m\n\u001b[0;32m    206\u001b[0m             \u001b[0mself\u001b[0m\u001b[1;33m.\u001b[0m\u001b[0m_neff\u001b[0m \u001b[1;33m=\u001b[0m \u001b[1;36m1\u001b[0m\u001b[1;33m/\u001b[0m\u001b[0msum\u001b[0m\u001b[1;33m(\u001b[0m\u001b[0mself\u001b[0m\u001b[1;33m.\u001b[0m\u001b[0m_weights\u001b[0m\u001b[1;33m**\u001b[0m\u001b[1;36m2\u001b[0m\u001b[1;33m)\u001b[0m\u001b[1;33m\u001b[0m\u001b[1;33m\u001b[0m\u001b[0m\n\u001b[0;32m    207\u001b[0m \u001b[1;33m\u001b[0m\u001b[0m\n\u001b[1;32m--> 208\u001b[1;33m         \u001b[0mself\u001b[0m\u001b[1;33m.\u001b[0m\u001b[0mset_bandwidth\u001b[0m\u001b[1;33m(\u001b[0m\u001b[0mbw_method\u001b[0m\u001b[1;33m=\u001b[0m\u001b[0mbw_method\u001b[0m\u001b[1;33m)\u001b[0m\u001b[1;33m\u001b[0m\u001b[1;33m\u001b[0m\u001b[0m\n\u001b[0m\u001b[0;32m    209\u001b[0m \u001b[1;33m\u001b[0m\u001b[0m\n\u001b[0;32m    210\u001b[0m     \u001b[1;32mdef\u001b[0m \u001b[0mevaluate\u001b[0m\u001b[1;33m(\u001b[0m\u001b[0mself\u001b[0m\u001b[1;33m,\u001b[0m \u001b[0mpoints\u001b[0m\u001b[1;33m)\u001b[0m\u001b[1;33m:\u001b[0m\u001b[1;33m\u001b[0m\u001b[1;33m\u001b[0m\u001b[0m\n",
      "\u001b[1;32mc:\\users\\d7rob\\appdata\\local\\programs\\python\\python37\\lib\\site-packages\\scipy\\stats\\kde.py\u001b[0m in \u001b[0;36mset_bandwidth\u001b[1;34m(self, bw_method)\u001b[0m\n\u001b[0;32m    552\u001b[0m             \u001b[1;32mraise\u001b[0m \u001b[0mValueError\u001b[0m\u001b[1;33m(\u001b[0m\u001b[0mmsg\u001b[0m\u001b[1;33m)\u001b[0m\u001b[1;33m\u001b[0m\u001b[1;33m\u001b[0m\u001b[0m\n\u001b[0;32m    553\u001b[0m \u001b[1;33m\u001b[0m\u001b[0m\n\u001b[1;32m--> 554\u001b[1;33m         \u001b[0mself\u001b[0m\u001b[1;33m.\u001b[0m\u001b[0m_compute_covariance\u001b[0m\u001b[1;33m(\u001b[0m\u001b[1;33m)\u001b[0m\u001b[1;33m\u001b[0m\u001b[1;33m\u001b[0m\u001b[0m\n\u001b[0m\u001b[0;32m    555\u001b[0m \u001b[1;33m\u001b[0m\u001b[0m\n\u001b[0;32m    556\u001b[0m     \u001b[1;32mdef\u001b[0m \u001b[0m_compute_covariance\u001b[0m\u001b[1;33m(\u001b[0m\u001b[0mself\u001b[0m\u001b[1;33m)\u001b[0m\u001b[1;33m:\u001b[0m\u001b[1;33m\u001b[0m\u001b[1;33m\u001b[0m\u001b[0m\n",
      "\u001b[1;32mc:\\users\\d7rob\\appdata\\local\\programs\\python\\python37\\lib\\site-packages\\scipy\\stats\\kde.py\u001b[0m in \u001b[0;36m_compute_covariance\u001b[1;34m(self)\u001b[0m\n\u001b[0;32m    564\u001b[0m                                                \u001b[0mbias\u001b[0m\u001b[1;33m=\u001b[0m\u001b[1;32mFalse\u001b[0m\u001b[1;33m,\u001b[0m\u001b[1;33m\u001b[0m\u001b[1;33m\u001b[0m\u001b[0m\n\u001b[0;32m    565\u001b[0m                                                aweights=self.weights))\n\u001b[1;32m--> 566\u001b[1;33m             \u001b[0mself\u001b[0m\u001b[1;33m.\u001b[0m\u001b[0m_data_inv_cov\u001b[0m \u001b[1;33m=\u001b[0m \u001b[0mlinalg\u001b[0m\u001b[1;33m.\u001b[0m\u001b[0minv\u001b[0m\u001b[1;33m(\u001b[0m\u001b[0mself\u001b[0m\u001b[1;33m.\u001b[0m\u001b[0m_data_covariance\u001b[0m\u001b[1;33m)\u001b[0m\u001b[1;33m\u001b[0m\u001b[1;33m\u001b[0m\u001b[0m\n\u001b[0m\u001b[0;32m    567\u001b[0m \u001b[1;33m\u001b[0m\u001b[0m\n\u001b[0;32m    568\u001b[0m         \u001b[0mself\u001b[0m\u001b[1;33m.\u001b[0m\u001b[0mcovariance\u001b[0m \u001b[1;33m=\u001b[0m \u001b[0mself\u001b[0m\u001b[1;33m.\u001b[0m\u001b[0m_data_covariance\u001b[0m \u001b[1;33m*\u001b[0m \u001b[0mself\u001b[0m\u001b[1;33m.\u001b[0m\u001b[0mfactor\u001b[0m\u001b[1;33m**\u001b[0m\u001b[1;36m2\u001b[0m\u001b[1;33m\u001b[0m\u001b[1;33m\u001b[0m\u001b[0m\n",
      "\u001b[1;32mc:\\users\\d7rob\\appdata\\local\\programs\\python\\python37\\lib\\site-packages\\scipy\\linalg\\basic.py\u001b[0m in \u001b[0;36minv\u001b[1;34m(a, overwrite_a, check_finite)\u001b[0m\n\u001b[0;32m    972\u001b[0m         \u001b[0minv_a\u001b[0m\u001b[1;33m,\u001b[0m \u001b[0minfo\u001b[0m \u001b[1;33m=\u001b[0m \u001b[0mgetri\u001b[0m\u001b[1;33m(\u001b[0m\u001b[0mlu\u001b[0m\u001b[1;33m,\u001b[0m \u001b[0mpiv\u001b[0m\u001b[1;33m,\u001b[0m \u001b[0mlwork\u001b[0m\u001b[1;33m=\u001b[0m\u001b[0mlwork\u001b[0m\u001b[1;33m,\u001b[0m \u001b[0moverwrite_lu\u001b[0m\u001b[1;33m=\u001b[0m\u001b[1;36m1\u001b[0m\u001b[1;33m)\u001b[0m\u001b[1;33m\u001b[0m\u001b[1;33m\u001b[0m\u001b[0m\n\u001b[0;32m    973\u001b[0m     \u001b[1;32mif\u001b[0m \u001b[0minfo\u001b[0m \u001b[1;33m>\u001b[0m \u001b[1;36m0\u001b[0m\u001b[1;33m:\u001b[0m\u001b[1;33m\u001b[0m\u001b[1;33m\u001b[0m\u001b[0m\n\u001b[1;32m--> 974\u001b[1;33m         \u001b[1;32mraise\u001b[0m \u001b[0mLinAlgError\u001b[0m\u001b[1;33m(\u001b[0m\u001b[1;34m\"singular matrix\"\u001b[0m\u001b[1;33m)\u001b[0m\u001b[1;33m\u001b[0m\u001b[1;33m\u001b[0m\u001b[0m\n\u001b[0m\u001b[0;32m    975\u001b[0m     \u001b[1;32mif\u001b[0m \u001b[0minfo\u001b[0m \u001b[1;33m<\u001b[0m \u001b[1;36m0\u001b[0m\u001b[1;33m:\u001b[0m\u001b[1;33m\u001b[0m\u001b[1;33m\u001b[0m\u001b[0m\n\u001b[0;32m    976\u001b[0m         raise ValueError('illegal value in %d-th argument of internal '\n",
      "\u001b[1;31mLinAlgError\u001b[0m: singular matrix"
     ]
    },
    {
     "data": {
      "image/png": "[encoded data removed]",
      "text/plain": [
       "<Figure size 864x576 with 4 Axes>"
      ]
     },
     "metadata": {
      "needs_background": "light"
     },
     "output_type": "display_data"
    },
    {
     "data": {
      "image/png": "[encoded data removed]",
      "text/plain": [
       "<Figure size 864x576 with 1 Axes>"
      ]
     },
     "metadata": {
      "needs_background": "light"
     },
     "output_type": "display_data"
    }
   ],
   "source": [
    "importlib.reload(p)\n",
    "\n",
    "files = []\n",
    "# files.append(['release/release1/*','release/release16/*','release/release64/*','release/release128/*','release/release256/*','release/release512/*', 'release/release0/*'])\n",
    "# files.append(['echo/deregister/*', 'echo/e/*', 'echo/echo/*', 'echo/register/*'])\n",
    "# files.append(['cops/delay/*', 'cops/deregister/*', 'cops/release/*', 'cops/tensec/*'])\n",
    "files.append(['drx/cap/*'])\n",
    "# files.append(['ptau/capture/*'])\n",
    "files = sum(files, [])\n",
    "print(files)\n",
    "\n",
    "ky = 'txBytes'\n",
    "kx = 'Signal power'\n",
    "\n",
    "limited = True\n",
    "# limited = False\n",
    "\n",
    "thresh = plotlim = distlim = histlim = [None] * 4\n",
    "\n",
    "thresh = [-2000, None, None, None]\n",
    "scale = [10, 1000]\n",
    "\n",
    "x = 0.001\n",
    "y = 250\n",
    "\n",
    "percx = 0.0001\n",
    "percy = 4\n",
    "\n",
    "if limited:\n",
    "    plotlim = [-135,  -70, x, y]\n",
    "    distlim = [x, y, percx, percy]\n",
    "    histlim = [x, y, percx*10, percy*10]\n",
    "    \n",
    "p.pan4('drx_' + ky, dirrs, files, kx, ky, thresh, plotlim, distlim, histlim, scale, limited, bins=40)"
   ]
  },
  {
   "cell_type": "code",
   "execution_count": 14,
   "metadata": {
    "collapsed": true,
    "jupyter": {
     "outputs_hidden": true,
     "source_hidden": true
    }
   },
   "outputs": [
    {
     "name": "stdout",
     "output_type": "stream",
     "text": [
      "['drx/cap/*']\n",
      "logs/zte_mtn/rf_shield/ublox/\n",
      "logs/nokia_vodacom/centurycity/ublox/\n",
      "logs/zte_mtn/rf_shield/quectel/\n",
      "logs/nokia_vodacom/centurycity/quectel/\n"
     ]
    },
    {
     "ename": "LinAlgError",
     "evalue": "singular matrix",
     "output_type": "error",
     "traceback": [
      "\u001b[1;31m---------------------------------------------------------------------------\u001b[0m",
      "\u001b[1;31mLinAlgError\u001b[0m                               Traceback (most recent call last)",
      "\u001b[1;32m<ipython-input-14-43bd18072b0b>\u001b[0m in \u001b[0;36m<module>\u001b[1;34m\u001b[0m\n\u001b[0;32m     32\u001b[0m     \u001b[0mhistlim\u001b[0m \u001b[1;33m=\u001b[0m \u001b[1;33m[\u001b[0m\u001b[0mx\u001b[0m\u001b[1;33m,\u001b[0m \u001b[0my\u001b[0m\u001b[1;33m,\u001b[0m \u001b[0mpercx\u001b[0m\u001b[1;33m*\u001b[0m\u001b[1;36m10\u001b[0m\u001b[1;33m,\u001b[0m \u001b[0mpercy\u001b[0m\u001b[1;33m*\u001b[0m\u001b[1;36m10\u001b[0m\u001b[1;33m]\u001b[0m\u001b[1;33m\u001b[0m\u001b[1;33m\u001b[0m\u001b[0m\n\u001b[0;32m     33\u001b[0m \u001b[1;33m\u001b[0m\u001b[0m\n\u001b[1;32m---> 34\u001b[1;33m \u001b[0mp\u001b[0m\u001b[1;33m.\u001b[0m\u001b[0mpan4\u001b[0m\u001b[1;33m(\u001b[0m\u001b[1;34m'drx_'\u001b[0m \u001b[1;33m+\u001b[0m \u001b[0mky\u001b[0m\u001b[1;33m,\u001b[0m \u001b[0mdirrs\u001b[0m\u001b[1;33m,\u001b[0m \u001b[0mfiles\u001b[0m\u001b[1;33m,\u001b[0m \u001b[0mkx\u001b[0m\u001b[1;33m,\u001b[0m \u001b[0mky\u001b[0m\u001b[1;33m,\u001b[0m \u001b[0mthresh\u001b[0m\u001b[1;33m,\u001b[0m \u001b[0mplotlim\u001b[0m\u001b[1;33m,\u001b[0m \u001b[0mdistlim\u001b[0m\u001b[1;33m,\u001b[0m \u001b[0mhistlim\u001b[0m\u001b[1;33m,\u001b[0m \u001b[0mscale\u001b[0m\u001b[1;33m,\u001b[0m \u001b[0mlimited\u001b[0m\u001b[1;33m,\u001b[0m \u001b[0mbins\u001b[0m\u001b[1;33m=\u001b[0m\u001b[1;36m40\u001b[0m\u001b[1;33m)\u001b[0m\u001b[1;33m\u001b[0m\u001b[1;33m\u001b[0m\u001b[0m\n\u001b[0m",
      "\u001b[1;32mC:\\GIT\\masters\\code\\tests\\plotter.py\u001b[0m in \u001b[0;36mpan4\u001b[1;34m(name, dirrs, files, kx, ky, thresh, plotlim, distlim, histlim, scale, limited, bins)\u001b[0m\n\u001b[0;32m    126\u001b[0m                      \u001b[0max\u001b[0m\u001b[1;33m=\u001b[0m\u001b[0max\u001b[0m\u001b[1;33m,\u001b[0m\u001b[1;33m\u001b[0m\u001b[1;33m\u001b[0m\u001b[0m\n\u001b[0;32m    127\u001b[0m                      \u001b[0mnorm_hist\u001b[0m\u001b[1;33m=\u001b[0m\u001b[1;32mTrue\u001b[0m\u001b[1;33m,\u001b[0m\u001b[1;33m\u001b[0m\u001b[1;33m\u001b[0m\u001b[0m\n\u001b[1;32m--> 128\u001b[1;33m                      hist_kws={'edgecolor':'black'})\n\u001b[0m\u001b[0;32m    129\u001b[0m     \u001b[1;32mif\u001b[0m \u001b[0mlimited\u001b[0m\u001b[1;33m:\u001b[0m\u001b[1;33m\u001b[0m\u001b[1;33m\u001b[0m\u001b[0m\n\u001b[0;32m    130\u001b[0m         \u001b[0max\u001b[0m\u001b[1;33m.\u001b[0m\u001b[0mset_xlim\u001b[0m\u001b[1;33m(\u001b[0m\u001b[0mdistlim\u001b[0m\u001b[1;33m[\u001b[0m\u001b[1;33m:\u001b[0m\u001b[1;36m2\u001b[0m\u001b[1;33m]\u001b[0m\u001b[1;33m[\u001b[0m\u001b[1;36m0\u001b[0m\u001b[1;33m]\u001b[0m\u001b[1;33m,\u001b[0m \u001b[0mdistlim\u001b[0m\u001b[1;33m[\u001b[0m\u001b[1;33m:\u001b[0m\u001b[1;36m2\u001b[0m\u001b[1;33m]\u001b[0m\u001b[1;33m[\u001b[0m\u001b[1;36m1\u001b[0m\u001b[1;33m]\u001b[0m\u001b[1;33m/\u001b[0m\u001b[1;36m4\u001b[0m\u001b[1;33m)\u001b[0m\u001b[1;33m\u001b[0m\u001b[1;33m\u001b[0m\u001b[0m\n",
      "\u001b[1;32mc:\\users\\d7rob\\appdata\\local\\programs\\python\\python37\\lib\\site-packages\\seaborn\\distributions.py\u001b[0m in \u001b[0;36mdistplot\u001b[1;34m(a, bins, hist, kde, rug, fit, hist_kws, kde_kws, rug_kws, fit_kws, color, vertical, norm_hist, axlabel, label, ax)\u001b[0m\n\u001b[0;32m    229\u001b[0m     \u001b[1;32mif\u001b[0m \u001b[0mkde\u001b[0m\u001b[1;33m:\u001b[0m\u001b[1;33m\u001b[0m\u001b[1;33m\u001b[0m\u001b[0m\n\u001b[0;32m    230\u001b[0m         \u001b[0mkde_color\u001b[0m \u001b[1;33m=\u001b[0m \u001b[0mkde_kws\u001b[0m\u001b[1;33m.\u001b[0m\u001b[0mpop\u001b[0m\u001b[1;33m(\u001b[0m\u001b[1;34m\"color\"\u001b[0m\u001b[1;33m,\u001b[0m \u001b[0mcolor\u001b[0m\u001b[1;33m)\u001b[0m\u001b[1;33m\u001b[0m\u001b[1;33m\u001b[0m\u001b[0m\n\u001b[1;32m--> 231\u001b[1;33m         \u001b[0mkdeplot\u001b[0m\u001b[1;33m(\u001b[0m\u001b[0ma\u001b[0m\u001b[1;33m,\u001b[0m \u001b[0mvertical\u001b[0m\u001b[1;33m=\u001b[0m\u001b[0mvertical\u001b[0m\u001b[1;33m,\u001b[0m \u001b[0max\u001b[0m\u001b[1;33m=\u001b[0m\u001b[0max\u001b[0m\u001b[1;33m,\u001b[0m \u001b[0mcolor\u001b[0m\u001b[1;33m=\u001b[0m\u001b[0mkde_color\u001b[0m\u001b[1;33m,\u001b[0m \u001b[1;33m**\u001b[0m\u001b[0mkde_kws\u001b[0m\u001b[1;33m)\u001b[0m\u001b[1;33m\u001b[0m\u001b[1;33m\u001b[0m\u001b[0m\n\u001b[0m\u001b[0;32m    232\u001b[0m         \u001b[1;32mif\u001b[0m \u001b[0mkde_color\u001b[0m \u001b[1;33m!=\u001b[0m \u001b[0mcolor\u001b[0m\u001b[1;33m:\u001b[0m\u001b[1;33m\u001b[0m\u001b[1;33m\u001b[0m\u001b[0m\n\u001b[0;32m    233\u001b[0m             \u001b[0mkde_kws\u001b[0m\u001b[1;33m[\u001b[0m\u001b[1;34m\"color\"\u001b[0m\u001b[1;33m]\u001b[0m \u001b[1;33m=\u001b[0m \u001b[0mkde_color\u001b[0m\u001b[1;33m\u001b[0m\u001b[1;33m\u001b[0m\u001b[0m\n",
      "\u001b[1;32mc:\\users\\d7rob\\appdata\\local\\programs\\python\\python37\\lib\\site-packages\\seaborn\\distributions.py\u001b[0m in \u001b[0;36mkdeplot\u001b[1;34m(data, data2, shade, vertical, kernel, bw, gridsize, cut, clip, legend, cumulative, shade_lowest, cbar, cbar_ax, cbar_kws, ax, **kwargs)\u001b[0m\n\u001b[0;32m    689\u001b[0m         ax = _univariate_kdeplot(data, shade, vertical, kernel, bw,\n\u001b[0;32m    690\u001b[0m                                  \u001b[0mgridsize\u001b[0m\u001b[1;33m,\u001b[0m \u001b[0mcut\u001b[0m\u001b[1;33m,\u001b[0m \u001b[0mclip\u001b[0m\u001b[1;33m,\u001b[0m \u001b[0mlegend\u001b[0m\u001b[1;33m,\u001b[0m \u001b[0max\u001b[0m\u001b[1;33m,\u001b[0m\u001b[1;33m\u001b[0m\u001b[1;33m\u001b[0m\u001b[0m\n\u001b[1;32m--> 691\u001b[1;33m                                  cumulative=cumulative, **kwargs)\n\u001b[0m\u001b[0;32m    692\u001b[0m \u001b[1;33m\u001b[0m\u001b[0m\n\u001b[0;32m    693\u001b[0m     \u001b[1;32mreturn\u001b[0m \u001b[0max\u001b[0m\u001b[1;33m\u001b[0m\u001b[1;33m\u001b[0m\u001b[0m\n",
      "\u001b[1;32mc:\\users\\d7rob\\appdata\\local\\programs\\python\\python37\\lib\\site-packages\\seaborn\\distributions.py\u001b[0m in \u001b[0;36m_univariate_kdeplot\u001b[1;34m(data, shade, vertical, kernel, bw, gridsize, cut, clip, legend, ax, cumulative, **kwargs)\u001b[0m\n\u001b[0;32m    292\u001b[0m                               \u001b[1;34m\"only implemented in statsmodels.\"\u001b[0m\u001b[1;33m\u001b[0m\u001b[1;33m\u001b[0m\u001b[0m\n\u001b[0;32m    293\u001b[0m                               \"Please install statsmodels.\")\n\u001b[1;32m--> 294\u001b[1;33m         \u001b[0mx\u001b[0m\u001b[1;33m,\u001b[0m \u001b[0my\u001b[0m \u001b[1;33m=\u001b[0m \u001b[0m_scipy_univariate_kde\u001b[0m\u001b[1;33m(\u001b[0m\u001b[0mdata\u001b[0m\u001b[1;33m,\u001b[0m \u001b[0mbw\u001b[0m\u001b[1;33m,\u001b[0m \u001b[0mgridsize\u001b[0m\u001b[1;33m,\u001b[0m \u001b[0mcut\u001b[0m\u001b[1;33m,\u001b[0m \u001b[0mclip\u001b[0m\u001b[1;33m)\u001b[0m\u001b[1;33m\u001b[0m\u001b[1;33m\u001b[0m\u001b[0m\n\u001b[0m\u001b[0;32m    295\u001b[0m \u001b[1;33m\u001b[0m\u001b[0m\n\u001b[0;32m    296\u001b[0m     \u001b[1;31m# Make sure the density is nonnegative\u001b[0m\u001b[1;33m\u001b[0m\u001b[1;33m\u001b[0m\u001b[1;33m\u001b[0m\u001b[0m\n",
      "\u001b[1;32mc:\\users\\d7rob\\appdata\\local\\programs\\python\\python37\\lib\\site-packages\\seaborn\\distributions.py\u001b[0m in \u001b[0;36m_scipy_univariate_kde\u001b[1;34m(data, bw, gridsize, cut, clip)\u001b[0m\n\u001b[0;32m    364\u001b[0m     \u001b[1;34m\"\"\"Compute a univariate kernel density estimate using scipy.\"\"\"\u001b[0m\u001b[1;33m\u001b[0m\u001b[1;33m\u001b[0m\u001b[0m\n\u001b[0;32m    365\u001b[0m     \u001b[1;32mtry\u001b[0m\u001b[1;33m:\u001b[0m\u001b[1;33m\u001b[0m\u001b[1;33m\u001b[0m\u001b[0m\n\u001b[1;32m--> 366\u001b[1;33m         \u001b[0mkde\u001b[0m \u001b[1;33m=\u001b[0m \u001b[0mstats\u001b[0m\u001b[1;33m.\u001b[0m\u001b[0mgaussian_kde\u001b[0m\u001b[1;33m(\u001b[0m\u001b[0mdata\u001b[0m\u001b[1;33m,\u001b[0m \u001b[0mbw_method\u001b[0m\u001b[1;33m=\u001b[0m\u001b[0mbw\u001b[0m\u001b[1;33m)\u001b[0m\u001b[1;33m\u001b[0m\u001b[1;33m\u001b[0m\u001b[0m\n\u001b[0m\u001b[0;32m    367\u001b[0m     \u001b[1;32mexcept\u001b[0m \u001b[0mTypeError\u001b[0m\u001b[1;33m:\u001b[0m\u001b[1;33m\u001b[0m\u001b[1;33m\u001b[0m\u001b[0m\n\u001b[0;32m    368\u001b[0m         \u001b[0mkde\u001b[0m \u001b[1;33m=\u001b[0m \u001b[0mstats\u001b[0m\u001b[1;33m.\u001b[0m\u001b[0mgaussian_kde\u001b[0m\u001b[1;33m(\u001b[0m\u001b[0mdata\u001b[0m\u001b[1;33m)\u001b[0m\u001b[1;33m\u001b[0m\u001b[1;33m\u001b[0m\u001b[0m\n",
      "\u001b[1;32mc:\\users\\d7rob\\appdata\\local\\programs\\python\\python37\\lib\\site-packages\\scipy\\stats\\kde.py\u001b[0m in \u001b[0;36m__init__\u001b[1;34m(self, dataset, bw_method, weights)\u001b[0m\n\u001b[0;32m    206\u001b[0m             \u001b[0mself\u001b[0m\u001b[1;33m.\u001b[0m\u001b[0m_neff\u001b[0m \u001b[1;33m=\u001b[0m \u001b[1;36m1\u001b[0m\u001b[1;33m/\u001b[0m\u001b[0msum\u001b[0m\u001b[1;33m(\u001b[0m\u001b[0mself\u001b[0m\u001b[1;33m.\u001b[0m\u001b[0m_weights\u001b[0m\u001b[1;33m**\u001b[0m\u001b[1;36m2\u001b[0m\u001b[1;33m)\u001b[0m\u001b[1;33m\u001b[0m\u001b[1;33m\u001b[0m\u001b[0m\n\u001b[0;32m    207\u001b[0m \u001b[1;33m\u001b[0m\u001b[0m\n\u001b[1;32m--> 208\u001b[1;33m         \u001b[0mself\u001b[0m\u001b[1;33m.\u001b[0m\u001b[0mset_bandwidth\u001b[0m\u001b[1;33m(\u001b[0m\u001b[0mbw_method\u001b[0m\u001b[1;33m=\u001b[0m\u001b[0mbw_method\u001b[0m\u001b[1;33m)\u001b[0m\u001b[1;33m\u001b[0m\u001b[1;33m\u001b[0m\u001b[0m\n\u001b[0m\u001b[0;32m    209\u001b[0m \u001b[1;33m\u001b[0m\u001b[0m\n\u001b[0;32m    210\u001b[0m     \u001b[1;32mdef\u001b[0m \u001b[0mevaluate\u001b[0m\u001b[1;33m(\u001b[0m\u001b[0mself\u001b[0m\u001b[1;33m,\u001b[0m \u001b[0mpoints\u001b[0m\u001b[1;33m)\u001b[0m\u001b[1;33m:\u001b[0m\u001b[1;33m\u001b[0m\u001b[1;33m\u001b[0m\u001b[0m\n",
      "\u001b[1;32mc:\\users\\d7rob\\appdata\\local\\programs\\python\\python37\\lib\\site-packages\\scipy\\stats\\kde.py\u001b[0m in \u001b[0;36mset_bandwidth\u001b[1;34m(self, bw_method)\u001b[0m\n\u001b[0;32m    552\u001b[0m             \u001b[1;32mraise\u001b[0m \u001b[0mValueError\u001b[0m\u001b[1;33m(\u001b[0m\u001b[0mmsg\u001b[0m\u001b[1;33m)\u001b[0m\u001b[1;33m\u001b[0m\u001b[1;33m\u001b[0m\u001b[0m\n\u001b[0;32m    553\u001b[0m \u001b[1;33m\u001b[0m\u001b[0m\n\u001b[1;32m--> 554\u001b[1;33m         \u001b[0mself\u001b[0m\u001b[1;33m.\u001b[0m\u001b[0m_compute_covariance\u001b[0m\u001b[1;33m(\u001b[0m\u001b[1;33m)\u001b[0m\u001b[1;33m\u001b[0m\u001b[1;33m\u001b[0m\u001b[0m\n\u001b[0m\u001b[0;32m    555\u001b[0m \u001b[1;33m\u001b[0m\u001b[0m\n\u001b[0;32m    556\u001b[0m     \u001b[1;32mdef\u001b[0m \u001b[0m_compute_covariance\u001b[0m\u001b[1;33m(\u001b[0m\u001b[0mself\u001b[0m\u001b[1;33m)\u001b[0m\u001b[1;33m:\u001b[0m\u001b[1;33m\u001b[0m\u001b[1;33m\u001b[0m\u001b[0m\n",
      "\u001b[1;32mc:\\users\\d7rob\\appdata\\local\\programs\\python\\python37\\lib\\site-packages\\scipy\\stats\\kde.py\u001b[0m in \u001b[0;36m_compute_covariance\u001b[1;34m(self)\u001b[0m\n\u001b[0;32m    564\u001b[0m                                                \u001b[0mbias\u001b[0m\u001b[1;33m=\u001b[0m\u001b[1;32mFalse\u001b[0m\u001b[1;33m,\u001b[0m\u001b[1;33m\u001b[0m\u001b[1;33m\u001b[0m\u001b[0m\n\u001b[0;32m    565\u001b[0m                                                aweights=self.weights))\n\u001b[1;32m--> 566\u001b[1;33m             \u001b[0mself\u001b[0m\u001b[1;33m.\u001b[0m\u001b[0m_data_inv_cov\u001b[0m \u001b[1;33m=\u001b[0m \u001b[0mlinalg\u001b[0m\u001b[1;33m.\u001b[0m\u001b[0minv\u001b[0m\u001b[1;33m(\u001b[0m\u001b[0mself\u001b[0m\u001b[1;33m.\u001b[0m\u001b[0m_data_covariance\u001b[0m\u001b[1;33m)\u001b[0m\u001b[1;33m\u001b[0m\u001b[1;33m\u001b[0m\u001b[0m\n\u001b[0m\u001b[0;32m    567\u001b[0m \u001b[1;33m\u001b[0m\u001b[0m\n\u001b[0;32m    568\u001b[0m         \u001b[0mself\u001b[0m\u001b[1;33m.\u001b[0m\u001b[0mcovariance\u001b[0m \u001b[1;33m=\u001b[0m \u001b[0mself\u001b[0m\u001b[1;33m.\u001b[0m\u001b[0m_data_covariance\u001b[0m \u001b[1;33m*\u001b[0m \u001b[0mself\u001b[0m\u001b[1;33m.\u001b[0m\u001b[0mfactor\u001b[0m\u001b[1;33m**\u001b[0m\u001b[1;36m2\u001b[0m\u001b[1;33m\u001b[0m\u001b[1;33m\u001b[0m\u001b[0m\n",
      "\u001b[1;32mc:\\users\\d7rob\\appdata\\local\\programs\\python\\python37\\lib\\site-packages\\scipy\\linalg\\basic.py\u001b[0m in \u001b[0;36minv\u001b[1;34m(a, overwrite_a, check_finite)\u001b[0m\n\u001b[0;32m    972\u001b[0m         \u001b[0minv_a\u001b[0m\u001b[1;33m,\u001b[0m \u001b[0minfo\u001b[0m \u001b[1;33m=\u001b[0m \u001b[0mgetri\u001b[0m\u001b[1;33m(\u001b[0m\u001b[0mlu\u001b[0m\u001b[1;33m,\u001b[0m \u001b[0mpiv\u001b[0m\u001b[1;33m,\u001b[0m \u001b[0mlwork\u001b[0m\u001b[1;33m=\u001b[0m\u001b[0mlwork\u001b[0m\u001b[1;33m,\u001b[0m \u001b[0moverwrite_lu\u001b[0m\u001b[1;33m=\u001b[0m\u001b[1;36m1\u001b[0m\u001b[1;33m)\u001b[0m\u001b[1;33m\u001b[0m\u001b[1;33m\u001b[0m\u001b[0m\n\u001b[0;32m    973\u001b[0m     \u001b[1;32mif\u001b[0m \u001b[0minfo\u001b[0m \u001b[1;33m>\u001b[0m \u001b[1;36m0\u001b[0m\u001b[1;33m:\u001b[0m\u001b[1;33m\u001b[0m\u001b[1;33m\u001b[0m\u001b[0m\n\u001b[1;32m--> 974\u001b[1;33m         \u001b[1;32mraise\u001b[0m \u001b[0mLinAlgError\u001b[0m\u001b[1;33m(\u001b[0m\u001b[1;34m\"singular matrix\"\u001b[0m\u001b[1;33m)\u001b[0m\u001b[1;33m\u001b[0m\u001b[1;33m\u001b[0m\u001b[0m\n\u001b[0m\u001b[0;32m    975\u001b[0m     \u001b[1;32mif\u001b[0m \u001b[0minfo\u001b[0m \u001b[1;33m<\u001b[0m \u001b[1;36m0\u001b[0m\u001b[1;33m:\u001b[0m\u001b[1;33m\u001b[0m\u001b[1;33m\u001b[0m\u001b[0m\n\u001b[0;32m    976\u001b[0m         raise ValueError('illegal value in %d-th argument of internal '\n",
      "\u001b[1;31mLinAlgError\u001b[0m: singular matrix"
     ]
    },
    {
     "data": {
      "image/png": "[encoded data removed]",
      "text/plain": [
       "<Figure size 864x576 with 4 Axes>"
      ]
     },
     "metadata": {
      "needs_background": "light"
     },
     "output_type": "display_data"
    },
    {
     "data": {
      "image/png": "[encoded data removed]",
      "text/plain": [
       "<Figure size 864x576 with 1 Axes>"
      ]
     },
     "metadata": {
      "needs_background": "light"
     },
     "output_type": "display_data"
    }
   ],
   "source": [
    "importlib.reload(p)\n",
    "\n",
    "files = []\n",
    "# files.append(['release/release1/*','release/release16/*','release/release64/*','release/release128/*','release/release256/*','release/release512/*', 'release/release0/*'])\n",
    "# files.append(['echo/deregister/*', 'echo/e/*', 'echo/echo/*', 'echo/register/*'])\n",
    "# files.append(['cops/delay/*', 'cops/deregister/*', 'cops/release/*', 'cops/tensec/*'])\n",
    "files.append(['drx/cap/*'])\n",
    "# files.append(['ptau/capture/*'])\n",
    "files = sum(files, [])\n",
    "print(files)\n",
    "\n",
    "ky = 'rxBytes'\n",
    "kx = 'Signal power'\n",
    "\n",
    "limited = True\n",
    "# limited = False\n",
    "\n",
    "thresh = plotlim = distlim = histlim = [None] * 4\n",
    "\n",
    "thresh = [-2000, None, None, None]\n",
    "scale = [10, 1000]\n",
    "\n",
    "x = 0.001\n",
    "y = 250\n",
    "\n",
    "percx = 0.0001\n",
    "percy = 4\n",
    "\n",
    "if limited:\n",
    "    plotlim = [-135,  -70, x, y]\n",
    "    distlim = [x, y, percx, percy]\n",
    "    histlim = [x, y, percx*10, percy*10]\n",
    "    \n",
    "p.pan4('drx_' + ky, dirrs, files, kx, ky, thresh, plotlim, distlim, histlim, scale, limited, bins=40)"
   ]
  },
  {
   "cell_type": "code",
   "execution_count": null,
   "metadata": {},
   "outputs": [],
   "source": []
  }
 ],
 "metadata": {
  "kernelspec": {
   "display_name": "Python 3",
   "language": "python",
   "name": "python3"
  },
  "language_info": {
   "codemirror_mode": {
    "name": "ipython",
    "version": 3
   },
   "file_extension": ".py",
   "mimetype": "text/x-python",
   "name": "python",
   "nbconvert_exporter": "python",
   "pygments_lexer": "ipython3",
   "version": "3.6.8"
  }
 },
 "nbformat": 4,
 "nbformat_minor": 4
}
