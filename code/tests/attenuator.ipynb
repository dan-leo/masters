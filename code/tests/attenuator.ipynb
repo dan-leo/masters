{
 "cells": [
  {
   "cell_type": "code",
   "execution_count": 1,
   "metadata": {},
   "outputs": [
    {
     "name": "stdout",
     "output_type": "stream",
     "text": [
      "custom jupyter @DanielRobinson\n",
      "custom jupyter @DanielRobinson\n"
     ]
    }
   ],
   "source": [
    "import numpy as np\n",
    "import matplotlib.pyplot as plt\n",
    "import jupyter as j\n",
    "import importlib\n",
    "importlib.reload(j)\n",
    "\n",
    "import matplotlib.ticker as ticker\n",
    "import glob"
   ]
  },
  {
   "cell_type": "code",
   "execution_count": 2,
   "metadata": {},
   "outputs": [],
   "source": [
    "def attdt():\n",
    "    atf = {}\n",
    "    atten = np.arange(0, 50, 10)\n",
    "    for at in atten:\n",
    "        atf[str(at) + ' dB'] = []\n",
    "    atf['50-110 dB'] = []\n",
    "    return atf"
   ]
  },
  {
   "cell_type": "code",
   "execution_count": 3,
   "metadata": {},
   "outputs": [],
   "source": [
    "# files = []\n",
    "# files.append(['release/release1/*','release/release16/*','release/release64/*','release/release128/*','release/release256/*','release/release512/*', 'release/release0/*'])\n",
    "# # files.append(['echo/deregister/*', 'echo/e/*', 'echo/echo/*', 'echo/register/*'])\n",
    "# # files.append(['cops/delay/*', 'cops/deregister/*', 'cops/release/*', 'cops/tensec/*'])\n",
    "# # files.append(['drx/cap/*'])\n",
    "# # files.append(['ptau/capture/*'])\n",
    "# files = sum(files, [])\n",
    "# print(files)"
   ]
  },
  {
   "cell_type": "code",
   "execution_count": 4,
   "metadata": {},
   "outputs": [
    {
     "data": {
      "image/png": "[encoded data removed]",
      "text/plain": [
       "<Figure size 432x288 with 1 Axes>"
      ]
     },
     "metadata": {
      "needs_background": "light"
     },
     "output_type": "display_data"
    },
    {
     "data": {
      "image/png": "[encoded data removed]",
      "text/plain": [
       "<Figure size 432x288 with 1 Axes>"
      ]
     },
     "metadata": {
      "needs_background": "light"
     },
     "output_type": "display_data"
    }
   ],
   "source": [
    "cc = ['tab:orange', 'tab:green', 'tab:red', 'tab:purple', 'tab:blue', 'tab:brown']\n",
    "\n",
    "dirr = 'logs/zte_mtn/rf_shield/ublox/'\n",
    "# dirr = 'logs/nokia_vodacom/centurycity/quectel/'\n",
    "# dirr = 'logs/nokia_vodacom/centurycity/ublox/'\n",
    "# dirr = 'logs/nokia_vodacom/centurycity/quectel/'\n",
    "\n",
    "atf = attdt()\n",
    "atten = np.arange(110, -1, -10)\n",
    "starfolder = 'release/release128/*'\n",
    "subfiles = glob.glob(dirr + starfolder)\n",
    "for file in subfiles:\n",
    "    f = file.split('\\\\')[-1]\n",
    "    for atn in atten:\n",
    "        if str(atn) in f:\n",
    "            # print(atn, file)\n",
    "            if atn >= 50:\n",
    "                atf['50-110 dB'].append(file)\n",
    "            else:\n",
    "                atf[str(atn) + ' dB'].append(file)\n",
    "            break\n",
    "    else:\n",
    "        print('else', file)\n",
    "        atf['50-110 dB'].append(file)\n",
    "\n",
    "####################### scatter #######################\n",
    "atd = attdt()\n",
    "for k in atf:\n",
    "    # print(k, atf[k])\n",
    "    for f in atf[k]:\n",
    "        c = j.csvToDict(f)\n",
    "        dp = j.dataProcess(c)\n",
    "        atd[k].append(dp)\n",
    "    atd[k] = j.merge(atd[k])\n",
    "    # print('atd[k]', len(atd[k]))\n",
    "\n",
    "ky = 'txTime'\n",
    "kx = 'Signal power'\n",
    "\n",
    "y = []\n",
    "x = []\n",
    "ka = []\n",
    "\n",
    "for i, k in enumerate(atd):\n",
    "    ka.append(k)\n",
    "    x.append(atd[k][kx])\n",
    "    y.append(atd[k][ky])\n",
    "    plt.scatter(x[i], y[i], linestyle='dotted', color=cc[i], label=k)\n",
    "plt.legend()\n",
    "plt.show()\n",
    "\n",
    "####################### histogram #######################\n",
    "fig = plt.figure()\n",
    "try:\n",
    "    data = np.concatenate(np.ravel(y))\n",
    "except ValueError:\n",
    "    data = np.ravel(y)\n",
    "finally:\n",
    "    _, lbins = np.histogram(data, bins=5)\n",
    "    logbins = np.logspace(np.log10(lbins[0]), np.log10(lbins[-1]), len(lbins))\n",
    "    ax = plt.gca()\n",
    "    n, rbins, _ = ax.hist(y, bins=logbins)\n",
    "    plt.xscale('log')\n",
    "    \n",
    "ax.set_xlim([1000, 10000])\n",
    "    \n",
    "for axis in [ax.xaxis, ax.yaxis]:\n",
    "    axis.set_major_formatter(ticker.FuncFormatter(lambda y,pos: ('{{:.{:1d}f}}'.format(int(np.maximum(-np.log10(max(y, 0.01)),0)))).format(y)))"
   ]
  },
  {
   "cell_type": "code",
   "execution_count": null,
   "metadata": {},
   "outputs": [],
   "source": []
  }
 ],
 "metadata": {
  "kernelspec": {
   "display_name": "Python 3",
   "language": "python",
   "name": "python3"
  },
  "language_info": {
   "codemirror_mode": {
    "name": "ipython",
    "version": 3
   },
   "file_extension": ".py",
   "mimetype": "text/x-python",
   "name": "python",
   "nbconvert_exporter": "python",
   "pygments_lexer": "ipython3",
   "version": "3.7.3"
  }
 },
 "nbformat": 4,
 "nbformat_minor": 2
}
