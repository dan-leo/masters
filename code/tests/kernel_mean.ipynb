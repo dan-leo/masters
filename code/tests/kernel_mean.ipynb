{
 "cells": [
  {
   "cell_type": "code",
   "execution_count": 5,
   "metadata": {},
   "outputs": [],
   "source": [
    "d = np.array([[1,2,3,4,5,6,7],[1.1,1.2,0.9,0.8,29,28.9,67]])"
   ]
  },
  {
   "cell_type": "code",
   "execution_count": 10,
   "metadata": {},
   "outputs": [
    {
     "data": {
      "text/plain": [
       "array([ 1.  , 28.95, 67.  ])"
      ]
     },
     "execution_count": 10,
     "metadata": {},
     "output_type": "execute_result"
    }
   ],
   "source": [
    "np.unique([1.0, 28.95, 67])"
   ]
  },
  {
   "cell_type": "code",
   "execution_count": 8,
   "metadata": {},
   "outputs": [
    {
     "data": {
      "text/plain": [
       "(array([2.5, 7. , 5.5]), array([ 1.  , 67.  , 28.95]))"
      ]
     },
     "execution_count": 8,
     "metadata": {},
     "output_type": "execute_result"
    }
   ],
   "source": [
    "from sklearn.cluster import KMeans\n",
    "kmeans = KMeans(n_clusters=3)\n",
    "kmeans.fit(d.T)\n",
    "kmx, kmy = kmeans.cluster_centers_.T\n",
    "kmx, kmy"
   ]
  },
  {
   "cell_type": "code",
   "execution_count": 2,
   "metadata": {},
   "outputs": [
    {
     "data": {
      "text/plain": [
       "(-15, 15)"
      ]
     },
     "execution_count": 2,
     "metadata": {},
     "output_type": "execute_result"
    }
   ],
   "source": [
    "# import statements\n",
    "from sklearn.datasets import make_blobs\n",
    "import numpy as np\n",
    "import matplotlib.pyplot as plt\n",
    "# create blobs\n",
    "data = make_blobs(n_samples=200, n_features=2, centers=4, cluster_std=1.6, random_state=50)\n",
    "# create np array for data points\n",
    "points = data[0]\n",
    "# create scatter plot\n",
    "plt.scatter(data[0][:,0], data[0][:,1], c=data[1], cmap='viridis')\n",
    "plt.xlim(-15,15)\n",
    "plt.ylim(-15,15)"
   ]
  },
  {
   "cell_type": "code",
   "execution_count": 3,
   "metadata": {},
   "outputs": [],
   "source": [
    "plt.style.use('dark_background')"
   ]
  },
  {
   "cell_type": "code",
   "execution_count": 28,
   "metadata": {},
   "outputs": [
    {
     "data": {
      "text/plain": [
       "(200, 2)"
      ]
     },
     "execution_count": 28,
     "metadata": {},
     "output_type": "execute_result"
    }
   ],
   "source": [
    "np.array(data[0]).shape"
   ]
  },
  {
   "cell_type": "code",
   "execution_count": 12,
   "metadata": {},
   "outputs": [],
   "source": [
    "# import KMeans\n",
    "from sklearn.cluster import KMeans"
   ]
  },
  {
   "cell_type": "code",
   "execution_count": 13,
   "metadata": {},
   "outputs": [
    {
     "name": "stdout",
     "output_type": "stream",
     "text": [
      "[[-2.40167949 10.17352695]\n",
      " [ 0.05161133 -5.35489826]\n",
      " [-5.56465793 -2.34988939]\n",
      " [-1.92101646  5.21673484]]\n"
     ]
    }
   ],
   "source": [
    "# create kmeans object\n",
    "kmeans = KMeans(n_clusters=4)\n",
    "# fit kmeans object to data\n",
    "kmeans.fit(points)\n",
    "# print location of clusters learned by kmeans object\n",
    "print(kmeans.cluster_centers_)\n",
    "# save new clusters for chart\n",
    "y_km = kmeans.fit_predict(points)"
   ]
  },
  {
   "cell_type": "code",
   "execution_count": 14,
   "metadata": {},
   "outputs": [
    {
     "data": {
      "text/plain": [
       "<matplotlib.collections.PathCollection at 0x7ff2d9445668>"
      ]
     },
     "execution_count": 14,
     "metadata": {},
     "output_type": "execute_result"
    },
    {
     "data": {
      "image/png": "[encoded data removed]",
      "text/plain": [
       "<Figure size 432x288 with 1 Axes>"
      ]
     },
     "metadata": {
      "needs_background": "light"
     },
     "output_type": "display_data"
    }
   ],
   "source": [
    "plt.scatter(points[y_km ==0,0], points[y_km == 0,1], s=100, c='red')\n",
    "plt.scatter(points[y_km ==1,0], points[y_km == 1,1], s=100, c='black')\n",
    "plt.scatter(points[y_km ==2,0], points[y_km == 2,1], s=100, c='blue')\n",
    "plt.scatter(points[y_km ==3,0], points[y_km == 3,1], s=100, c='cyan')"
   ]
  },
  {
   "cell_type": "code",
   "execution_count": 15,
   "metadata": {},
   "outputs": [],
   "source": [
    "# import hierarchical clustering libraries\n",
    "import scipy.cluster.hierarchy as sch\n",
    "from sklearn.cluster import AgglomerativeClustering"
   ]
  },
  {
   "cell_type": "code",
   "execution_count": 19,
   "metadata": {},
   "outputs": [],
   "source": [
    "# create dendrogram\n",
    "# dendrogram = sch.dendrogram(sch.linkage(points, method='ward'))\n",
    "# create clusters\n",
    "hc = AgglomerativeClustering(n_clusters=4, affinity = 'euclidean', linkage = 'ward')\n",
    "# save clusters for chart\n",
    "y_hc = hc.fit_predict(points)"
   ]
  },
  {
   "cell_type": "code",
   "execution_count": 20,
   "metadata": {},
   "outputs": [
    {
     "data": {
      "text/plain": [
       "<matplotlib.collections.PathCollection at 0x7ff2d8b782e8>"
      ]
     },
     "execution_count": 20,
     "metadata": {},
     "output_type": "execute_result"
    },
    {
     "data": {
      "image/png": "[encoded data removed]",
      "text/plain": [
       "<Figure size 432x288 with 1 Axes>"
      ]
     },
     "metadata": {
      "needs_background": "light"
     },
     "output_type": "display_data"
    }
   ],
   "source": [
    "plt.scatter(points[y_hc ==0,0], points[y_hc == 0,1], s=100, c='red')\n",
    "plt.scatter(points[y_hc ==1,0], points[y_hc == 1,1], s=100, c='black')\n",
    "plt.scatter(points[y_hc ==2,0], points[y_hc == 2,1], s=100, c='blue')\n",
    "plt.scatter(points[y_hc ==3,0], points[y_hc == 3,1], s=100, c='cyan')"
   ]
  },
  {
   "cell_type": "code",
   "execution_count": 12,
   "metadata": {},
   "outputs": [],
   "source": [
    "mcount, acount, kcount =({'txTime vs Signal power': (126, 10)},\n",
    " {'txTime vs Signal power': (1558, 61)},\n",
    " {'txTime vs Signal power': (233, 34)})"
   ]
  },
  {
   "cell_type": "code",
   "execution_count": 13,
   "metadata": {},
   "outputs": [
    {
     "data": {
      "text/plain": [
       "({'txTime vs Signal power': (126, 10)},\n",
       " {'txTime vs Signal power': (1558, 61)},\n",
       " {'txTime vs Signal power': (233, 34)})"
      ]
     },
     "execution_count": 13,
     "metadata": {},
     "output_type": "execute_result"
    }
   ],
   "source": [
    "mcount, acount, kcount"
   ]
  },
  {
   "cell_type": "code",
   "execution_count": 14,
   "metadata": {},
   "outputs": [
    {
     "data": {
      "text/plain": [
       "0.8602981778023192"
      ]
     },
     "execution_count": 14,
     "metadata": {},
     "output_type": "execute_result"
    }
   ],
   "source": [
    "1558/1811"
   ]
  },
  {
   "cell_type": "code",
   "execution_count": 15,
   "metadata": {},
   "outputs": [
    {
     "data": {
      "text/plain": [
       "0.06957482054113749"
      ]
     },
     "execution_count": 15,
     "metadata": {},
     "output_type": "execute_result"
    }
   ],
   "source": [
    "126/1811"
   ]
  },
  {
   "cell_type": "code",
   "execution_count": 16,
   "metadata": {},
   "outputs": [
    {
     "data": {
      "text/plain": [
       "0.12865819988956378"
      ]
     },
     "execution_count": 16,
     "metadata": {},
     "output_type": "execute_result"
    }
   ],
   "source": [
    "233/1811"
   ]
  },
  {
   "cell_type": "code",
   "execution_count": 17,
   "metadata": {},
   "outputs": [
    {
     "data": {
      "text/plain": [
       "1432"
      ]
     },
     "execution_count": 17,
     "metadata": {},
     "output_type": "execute_result"
    }
   ],
   "source": [
    "1558-126"
   ]
  },
  {
   "cell_type": "code",
   "execution_count": 18,
   "metadata": {},
   "outputs": [
    {
     "data": {
      "text/plain": [
       "107"
      ]
     },
     "execution_count": 18,
     "metadata": {},
     "output_type": "execute_result"
    }
   ],
   "source": [
    "233-126"
   ]
  },
  {
   "cell_type": "code",
   "execution_count": 19,
   "metadata": {},
   "outputs": [
    {
     "data": {
      "text/plain": [
       "0.07472067039106145"
      ]
     },
     "execution_count": 19,
     "metadata": {},
     "output_type": "execute_result"
    }
   ],
   "source": [
    "107/1432"
   ]
  },
  {
   "cell_type": "code",
   "execution_count": 4,
   "metadata": {},
   "outputs": [],
   "source": [
    "mcount, acount, kcount = ({'txTime vs Signal power': (126, 10),\n",
    "  'txTimeNW vs Signal power': (91, 5),\n",
    "  'rxTimeNW vs Signal power': (105, 13),\n",
    "  'energy vs Signal power': (127, 9),\n",
    "  'energy vs Total power': (127, 9),\n",
    "  'maxCurrent vs Signal power': (136, 0),\n",
    "  'TX power vs Signal power': (135, 0),\n",
    "  'TX power vs Total power': (135, 0),\n",
    "  'energy vs txTime': (125, 2),\n",
    "  'Total power vs Signal power': (136, 0),\n",
    "  'SNR vs Signal power': (136, 0),\n",
    "  'RSRQ vs Signal power': (136, 0),\n",
    "  'txBytes vs Signal power': (77, 16),\n",
    "  'rxBytes vs Signal power': (87, 4),\n",
    "  'Total ACK NACK RX vs Signal power': (61, 75),\n",
    "  'Cell ID vs Signal power': (136, 0),\n",
    "  'ECL vs Signal power': (136, 0),\n",
    "  'EARFCN vs Signal power': (136, 0),\n",
    "  'PCI vs Signal power': (75, 61),\n",
    "  'Current Allocated vs Signal power': (136, 0),\n",
    "  'Total Free vs Signal power': (136, 0),\n",
    "  'Max Free vs Signal power': (136, 0),\n",
    "  'Num Allocs vs Signal power': (136, 0),\n",
    "  'Num Frees vs Signal power': (136, 0)},\n",
    " {'txTime vs Signal power': (1558, 61),\n",
    "  'txTimeNW vs Signal power': (528, 11),\n",
    "  'rxTimeNW vs Signal power': (1069, 47),\n",
    "  'energy vs Signal power': (1540, 79),\n",
    "  'energy vs Total power': (1540, 79),\n",
    "  'maxCurrent vs Signal power': (1619, 0),\n",
    "  'TX power vs Signal power': (1597, 0),\n",
    "  'TX power vs Total power': (1597, 0),\n",
    "  'energy vs txTime': (1640, 19),\n",
    "  'Total power vs Signal power': (1619, 0),\n",
    "  'SNR vs Signal power': (1619, 0),\n",
    "  'RSRQ vs Signal power': (1619, 0),\n",
    "  'txBytes vs Signal power': (457, 65),\n",
    "  'rxBytes vs Signal power': (504, 18),\n",
    "  'Total ACK NACK RX vs Signal power': (385, 12), # 34\n",
    "  'Cell ID vs Signal power': (1619, 0),\n",
    "  'ECL vs Signal power': (1619, 0),\n",
    "  'EARFCN vs Signal power': (1619, 0),\n",
    "  'PCI vs Signal power': (1619, 0),\n",
    "  'Current Allocated vs Signal power': (1619, 0),\n",
    "  'Total Free vs Signal power': (1619, 0),\n",
    "  'Max Free vs Signal power': (1619, 0),\n",
    "  'Num Allocs vs Signal power': (1619, 0),\n",
    "  'Num Frees vs Signal power': (1619, 0)},\n",
    " {'txTime vs Signal power': (233, 34),\n",
    "  'txTimeNW vs Signal power': (163, 10),\n",
    "  'rxTimeNW vs Signal power': (197, 32),\n",
    "  'energy vs Signal power': (232, 35),\n",
    "  'energy vs Total power': (232, 35),\n",
    "  'maxCurrent vs Signal power': (265, 0),\n",
    "  'TX power vs Signal power': (175, 0),\n",
    "  'TX power vs Total power': (175, 0),\n",
    "  'energy vs txTime': (225, 2),\n",
    "  'Total power vs Signal power': (266, 0),\n",
    "  'SNR vs Signal power': (267, 0),\n",
    "  'RSRQ vs Signal power': (267, 0),\n",
    "  'txBytes vs Signal power': (174, 37),\n",
    "  'rxBytes vs Signal power': (166, 12),\n",
    "  'Total ACK NACK RX vs Signal power': (87, 120),\n",
    "  'Cell ID vs Signal power': (173, 0),\n",
    "  'ECL vs Signal power': (175, 0),\n",
    "  'EARFCN vs Signal power': (136, 0),\n",
    "  'PCI vs Signal power': (172, 0),\n",
    "  'Current Allocated vs Signal power': (162, 0),\n",
    "  'Total Free vs Signal power': (162, 0),\n",
    "  'Max Free vs Signal power': (149, 0),\n",
    "  'Num Allocs vs Signal power': (390, 0),\n",
    "  'Num Frees vs Signal power': (390, 0)})"
   ]
  },
  {
   "cell_type": "code",
   "execution_count": 5,
   "metadata": {
    "collapsed": true,
    "jupyter": {
     "outputs_hidden": true
    }
   },
   "outputs": [
    {
     "data": {
      "text/plain": [
       "({'txTime vs Signal power': (126, 10),\n",
       "  'txTimeNW vs Signal power': (91, 5),\n",
       "  'rxTimeNW vs Signal power': (105, 13),\n",
       "  'energy vs Signal power': (127, 9),\n",
       "  'energy vs Total power': (127, 9),\n",
       "  'maxCurrent vs Signal power': (136, 0),\n",
       "  'TX power vs Signal power': (135, 0),\n",
       "  'TX power vs Total power': (135, 0),\n",
       "  'energy vs txTime': (125, 2),\n",
       "  'Total power vs Signal power': (136, 0),\n",
       "  'SNR vs Signal power': (136, 0),\n",
       "  'RSRQ vs Signal power': (136, 0),\n",
       "  'txBytes vs Signal power': (77, 16),\n",
       "  'rxBytes vs Signal power': (87, 4),\n",
       "  'Total ACK NACK RX vs Signal power': (61, 75),\n",
       "  'Cell ID vs Signal power': (136, 0),\n",
       "  'ECL vs Signal power': (136, 0),\n",
       "  'EARFCN vs Signal power': (136, 0),\n",
       "  'PCI vs Signal power': (75, 61),\n",
       "  'Current Allocated vs Signal power': (136, 0),\n",
       "  'Total Free vs Signal power': (136, 0),\n",
       "  'Max Free vs Signal power': (136, 0),\n",
       "  'Num Allocs vs Signal power': (136, 0),\n",
       "  'Num Frees vs Signal power': (136, 0)},\n",
       " {'txTime vs Signal power': (1558, 61),\n",
       "  'txTimeNW vs Signal power': (528, 11),\n",
       "  'rxTimeNW vs Signal power': (1069, 47),\n",
       "  'energy vs Signal power': (1540, 79),\n",
       "  'energy vs Total power': (1540, 79),\n",
       "  'maxCurrent vs Signal power': (1619, 0),\n",
       "  'TX power vs Signal power': (1597, 0),\n",
       "  'TX power vs Total power': (1597, 0),\n",
       "  'energy vs txTime': (1640, 19),\n",
       "  'Total power vs Signal power': (1619, 0),\n",
       "  'SNR vs Signal power': (1619, 0),\n",
       "  'RSRQ vs Signal power': (1619, 0),\n",
       "  'txBytes vs Signal power': (457, 65),\n",
       "  'rxBytes vs Signal power': (504, 18),\n",
       "  'Total ACK NACK RX vs Signal power': (385, 12),\n",
       "  'Cell ID vs Signal power': (1619, 0),\n",
       "  'ECL vs Signal power': (1619, 0),\n",
       "  'EARFCN vs Signal power': (1619, 0),\n",
       "  'PCI vs Signal power': (1619, 0),\n",
       "  'Current Allocated vs Signal power': (1619, 0),\n",
       "  'Total Free vs Signal power': (1619, 0),\n",
       "  'Max Free vs Signal power': (1619, 0),\n",
       "  'Num Allocs vs Signal power': (1619, 0),\n",
       "  'Num Frees vs Signal power': (1619, 0)},\n",
       " {'txTime vs Signal power': (233, 34),\n",
       "  'txTimeNW vs Signal power': (163, 10),\n",
       "  'rxTimeNW vs Signal power': (197, 32),\n",
       "  'energy vs Signal power': (232, 35),\n",
       "  'energy vs Total power': (232, 35),\n",
       "  'maxCurrent vs Signal power': (265, 0),\n",
       "  'TX power vs Signal power': (175, 0),\n",
       "  'TX power vs Total power': (175, 0),\n",
       "  'energy vs txTime': (225, 2),\n",
       "  'Total power vs Signal power': (266, 0),\n",
       "  'SNR vs Signal power': (267, 0),\n",
       "  'RSRQ vs Signal power': (267, 0),\n",
       "  'txBytes vs Signal power': (174, 37),\n",
       "  'rxBytes vs Signal power': (166, 12),\n",
       "  'Total ACK NACK RX vs Signal power': (87, 120),\n",
       "  'Cell ID vs Signal power': (173, 0),\n",
       "  'ECL vs Signal power': (175, 0),\n",
       "  'EARFCN vs Signal power': (136, 0),\n",
       "  'PCI vs Signal power': (172, 0),\n",
       "  'Current Allocated vs Signal power': (162, 0),\n",
       "  'Total Free vs Signal power': (162, 0),\n",
       "  'Max Free vs Signal power': (149, 0),\n",
       "  'Num Allocs vs Signal power': (390, 0),\n",
       "  'Num Frees vs Signal power': (390, 0)})"
      ]
     },
     "execution_count": 5,
     "metadata": {},
     "output_type": "execute_result"
    }
   ],
   "source": [
    "mcount, acount, kcount"
   ]
  },
  {
   "cell_type": "code",
   "execution_count": 6,
   "metadata": {
    "collapsed": true,
    "jupyter": {
     "outputs_hidden": true
    }
   },
   "outputs": [
    {
     "data": {
      "text/plain": [
       "['txTime vs Signal power',\n",
       " 'txTimeNW vs Signal power',\n",
       " 'rxTimeNW vs Signal power',\n",
       " 'energy vs Signal power',\n",
       " 'energy vs Total power',\n",
       " 'maxCurrent vs Signal power',\n",
       " 'TX power vs Signal power',\n",
       " 'TX power vs Total power',\n",
       " 'energy vs txTime',\n",
       " 'Total power vs Signal power',\n",
       " 'SNR vs Signal power',\n",
       " 'RSRQ vs Signal power',\n",
       " 'txBytes vs Signal power',\n",
       " 'rxBytes vs Signal power',\n",
       " 'Total ACK NACK RX vs Signal power',\n",
       " 'Cell ID vs Signal power',\n",
       " 'ECL vs Signal power',\n",
       " 'EARFCN vs Signal power',\n",
       " 'PCI vs Signal power',\n",
       " 'Current Allocated vs Signal power',\n",
       " 'Total Free vs Signal power',\n",
       " 'Max Free vs Signal power',\n",
       " 'Num Allocs vs Signal power',\n",
       " 'Num Frees vs Signal power']"
      ]
     },
     "execution_count": 6,
     "metadata": {},
     "output_type": "execute_result"
    }
   ],
   "source": [
    "labels = [k for k in kcount]\n",
    "labels"
   ]
  },
  {
   "cell_type": "code",
   "execution_count": 28,
   "metadata": {
    "collapsed": true,
    "jupyter": {
     "outputs_hidden": true
    }
   },
   "outputs": [
    {
     "data": {
      "text/plain": [
       "array([[[1558,  233,  126],\n",
       "        [  61,   34,   10]],\n",
       "\n",
       "       [[ 528,  163,   91],\n",
       "        [  11,   10,    5]],\n",
       "\n",
       "       [[1069,  197,  105],\n",
       "        [  47,   32,   13]],\n",
       "\n",
       "       [[1540,  232,  127],\n",
       "        [  79,   35,    9]],\n",
       "\n",
       "       [[1540,  232,  127],\n",
       "        [  79,   35,    9]],\n",
       "\n",
       "       [[1619,  265,  136],\n",
       "        [   0,    0,    0]],\n",
       "\n",
       "       [[1597,  175,  135],\n",
       "        [   0,    0,    0]],\n",
       "\n",
       "       [[1597,  175,  135],\n",
       "        [   0,    0,    0]],\n",
       "\n",
       "       [[1640,  225,  125],\n",
       "        [  19,    2,    2]],\n",
       "\n",
       "       [[1619,  266,  136],\n",
       "        [   0,    0,    0]],\n",
       "\n",
       "       [[1619,  267,  136],\n",
       "        [   0,    0,    0]],\n",
       "\n",
       "       [[1619,  267,  136],\n",
       "        [   0,    0,    0]],\n",
       "\n",
       "       [[ 457,  174,   77],\n",
       "        [  65,   37,   16]],\n",
       "\n",
       "       [[ 504,  166,   87],\n",
       "        [  18,   12,    4]],\n",
       "\n",
       "       [[ 385,   87,   61],\n",
       "        [  12,  120,   75]],\n",
       "\n",
       "       [[1619,  173,  136],\n",
       "        [   0,    0,    0]],\n",
       "\n",
       "       [[1619,  175,  136],\n",
       "        [   0,    0,    0]],\n",
       "\n",
       "       [[1619,  136,  136],\n",
       "        [   0,    0,    0]],\n",
       "\n",
       "       [[1619,  172,   75],\n",
       "        [   0,    0,   61]],\n",
       "\n",
       "       [[1619,  162,  136],\n",
       "        [   0,    0,    0]],\n",
       "\n",
       "       [[1619,  162,  136],\n",
       "        [   0,    0,    0]],\n",
       "\n",
       "       [[1619,  149,  136],\n",
       "        [   0,    0,    0]],\n",
       "\n",
       "       [[1619,  390,  136],\n",
       "        [   0,    0,    0]],\n",
       "\n",
       "       [[1619,  390,  136],\n",
       "        [   0,    0,    0]]])"
      ]
     },
     "execution_count": 28,
     "metadata": {},
     "output_type": "execute_result"
    }
   ],
   "source": [
    "c = []\n",
    "for lab in labels:\n",
    "    for i, j, k in zip(acount[lab], kcount[lab], mcount[lab], ):\n",
    "        c.append([i, j, k])\n",
    "c = np.array(c)\n",
    "c = c.reshape(24,2,-1)\n",
    "c"
   ]
  },
  {
   "cell_type": "code",
   "execution_count": 29,
   "metadata": {},
   "outputs": [
    {
     "data": {
      "text/plain": [
       "[<matplotlib.lines.Line2D at 0x7f112c6e7908>,\n",
       " <matplotlib.lines.Line2D at 0x7f112c6e7a58>,\n",
       " <matplotlib.lines.Line2D at 0x7f112c6e7ba8>]"
      ]
     },
     "execution_count": 29,
     "metadata": {},
     "output_type": "execute_result"
    },
    {
     "data": {
      "image/png": "[encoded data removed]",
      "text/plain": [
       "<Figure size 432x288 with 1 Axes>"
      ]
     },
     "metadata": {},
     "output_type": "display_data"
    }
   ],
   "source": [
    "plt.plot(c[:,0])"
   ]
  },
  {
   "cell_type": "code",
   "execution_count": 65,
   "metadata": {
    "collapsed": true,
    "jupyter": {
     "outputs_hidden": true
    }
   },
   "outputs": [
    {
     "data": {
      "text/plain": [
       "array([[ 126, 1558,  233],\n",
       "       [  91,  528,  163],\n",
       "       [ 105, 1069,  197],\n",
       "       [ 127, 1540,  232],\n",
       "       [ 127, 1540,  232],\n",
       "       [ 136, 1619,  265],\n",
       "       [ 135, 1597,  175],\n",
       "       [ 135, 1597,  175],\n",
       "       [ 125, 1640,  225],\n",
       "       [ 136, 1619,  266],\n",
       "       [ 136, 1619,  267],\n",
       "       [ 136, 1619,  267],\n",
       "       [  77,  457,  174],\n",
       "       [  87,  504,  166],\n",
       "       [  61,  385,   87],\n",
       "       [ 136, 1619,  173],\n",
       "       [ 136, 1619,  175],\n",
       "       [ 136, 1619,  136],\n",
       "       [  75, 1619,  172],\n",
       "       [ 136, 1619,  162],\n",
       "       [ 136, 1619,  162],\n",
       "       [ 136, 1619,  149],\n",
       "       [ 136, 1619,  390],\n",
       "       [ 136, 1619,  390]])"
      ]
     },
     "execution_count": 65,
     "metadata": {},
     "output_type": "execute_result"
    }
   ],
   "source": [
    "c[:,0]"
   ]
  },
  {
   "cell_type": "code",
   "execution_count": 103,
   "metadata": {},
   "outputs": [
    {
     "data": {
      "text/plain": [
       "array([[ 10,   5,  13,   9,   9,   0,   0,   0,   2,   0,   0,   0,  16,\n",
       "          4,  75,   0,   0,   0,  61,   0,   0,   0,   0,   0],\n",
       "       [ 61,  11,  47,  79,  79,   0,   0,   0,  19,   0,   0,   0,  65,\n",
       "         18,  12,   0,   0,   0,   0,   0,   0,   0,   0,   0],\n",
       "       [ 34,  10,  32,  35,  35,   0,   0,   0,   2,   0,   0,   0,  37,\n",
       "         12, 120,   0,   0,   0,   0,   0,   0,   0,   0,   0]])"
      ]
     },
     "execution_count": 103,
     "metadata": {},
     "output_type": "execute_result"
    }
   ],
   "source": [
    "c[:,1].T"
   ]
  },
  {
   "cell_type": "code",
   "execution_count": 108,
   "metadata": {},
   "outputs": [
    {
     "data": {
      "text/plain": [
       "[<matplotlib.lines.Line2D at 0x7f000a414128>,\n",
       " <matplotlib.lines.Line2D at 0x7f000a414278>,\n",
       " <matplotlib.lines.Line2D at 0x7f000a4143c8>]"
      ]
     },
     "execution_count": 108,
     "metadata": {},
     "output_type": "execute_result"
    },
    {
     "data": {
      "image/png": "[encoded data removed]",
      "text/plain": [
       "<Figure size 432x288 with 1 Axes>"
      ]
     },
     "metadata": {
      "needs_background": "light"
     },
     "output_type": "display_data"
    }
   ],
   "source": [
    "plt.plot(c[:,1])"
   ]
  },
  {
   "cell_type": "code",
   "execution_count": 139,
   "metadata": {},
   "outputs": [],
   "source": [
    "w = 0.3\n",
    "n = np.repeat(1.0 * np.arange(len(labels)), 3).reshape(len(labels), -1).T\n",
    "n[0] -= w\n",
    "n[2] += w\n",
    "n = n.T"
   ]
  },
  {
   "cell_type": "code",
   "execution_count": 140,
   "metadata": {},
   "outputs": [
    {
     "data": {
      "image/png": "[encoded data removed]",
      "text/plain": [
       "<Figure size 432x288 with 1 Axes>"
      ]
     },
     "metadata": {
      "needs_background": "light"
     },
     "output_type": "display_data"
    }
   ],
   "source": [
    "for x, y in zip(n, c[:,0]):\n",
    "    plt.bar(x, y, width=w)"
   ]
  },
  {
   "cell_type": "code",
   "execution_count": 158,
   "metadata": {},
   "outputs": [
    {
     "data": {
      "text/plain": [
       "['txTime vs Signal power',\n",
       " 'txTimeNW vs Signal power',\n",
       " 'rxTimeNW vs Signal power',\n",
       " 'energy vs Signal power',\n",
       " 'energy vs Total power',\n",
       " 'maxCurrent vs Signal power',\n",
       " 'TX power vs Signal power',\n",
       " 'TX power vs Total power',\n",
       " 'energy vs txTime',\n",
       " 'Total power vs Signal power',\n",
       " 'SNR vs Signal power',\n",
       " 'RSRQ vs Signal power',\n",
       " 'txBytes vs Signal power',\n",
       " 'rxBytes vs Signal power',\n",
       " 'Total ACK NACK RX vs Signal power',\n",
       " 'Cell ID vs Signal power',\n",
       " 'ECL vs Signal power',\n",
       " 'EARFCN vs Signal power',\n",
       " 'PCI vs Signal power',\n",
       " 'Current Allocated vs Signal power',\n",
       " 'Total Free vs Signal power',\n",
       " 'Max Free vs Signal power',\n",
       " 'Num Allocs vs Signal power',\n",
       " 'Num Frees vs Signal power']"
      ]
     },
     "execution_count": 158,
     "metadata": {},
     "output_type": "execute_result"
    }
   ],
   "source": [
    "labels"
   ]
  },
  {
   "cell_type": "code",
   "execution_count": 46,
   "metadata": {},
   "outputs": [
    {
     "data": {
      "text/plain": [
       "(3, 24)"
      ]
     },
     "execution_count": 46,
     "metadata": {},
     "output_type": "execute_result"
    }
   ],
   "source": [
    "c[:,0].T.shape"
   ]
  },
  {
   "cell_type": "code",
   "execution_count": 52,
   "metadata": {},
   "outputs": [
    {
     "data": {
      "text/plain": [
       "array([[1811, 1811, 1811, 1811, 1811, 1811, 1811, 1811, 1811, 1811, 1811,\n",
       "        1811, 1811, 1811, 1811, 1811, 1811, 1811, 1811, 1811, 1811, 1811,\n",
       "        1811, 1811],\n",
       "       [1558,  528, 1069, 1540, 1540, 1619, 1597, 1597, 1640, 1619, 1619,\n",
       "        1619,  457,  504,  385, 1619, 1619, 1619, 1619, 1619, 1619, 1619,\n",
       "        1619, 1619],\n",
       "       [ 233,  163,  197,  232,  232,  265,  175,  175,  225,  266,  267,\n",
       "         267,  174,  166,   87,  173,  175,  136,  172,  162,  162,  149,\n",
       "         390,  390],\n",
       "       [ 126,   91,  105,  127,  127,  136,  135,  135,  125,  136,  136,\n",
       "         136,   77,   87,   61,  136,  136,  136,   75,  136,  136,  136,\n",
       "         136,  136]])"
      ]
     },
     "execution_count": 52,
     "metadata": {},
     "output_type": "execute_result"
    }
   ],
   "source": [
    "u = [1811]*24\n",
    "t = c[:,0].T\n",
    "t = np.append(u, t).reshape(4, 24)\n",
    "t"
   ]
  },
  {
   "cell_type": "code",
   "execution_count": 55,
   "metadata": {},
   "outputs": [
    {
     "data": {
      "image/png": "[encoded data removed]",
      "text/plain": [
       "<Figure size 432x288 with 1 Axes>"
      ]
     },
     "metadata": {},
     "output_type": "display_data"
    }
   ],
   "source": [
    "import pandas as pd\n",
    "p = pd.DataFrame(t.T, columns=['Maximum', 'Filtered', 'K-Means', 'Single mean'])\n",
    "p.plot()\n",
    "plt.xlabel('Test configuration count')\n",
    "plt.ylabel('Trace entries per test')\n",
    "plt.savefig('plots/dpoints.png')\n",
    "plt.savefig('plots/dpoints.pdf')\n",
    "# plt.savefig('plots/dpoints.emf')"
   ]
  },
  {
   "cell_type": "code",
   "execution_count": 56,
   "metadata": {},
   "outputs": [
    {
     "name": "stdout",
     "output_type": "stream",
     "text": [
      "Failed to get connection\n",
      "** (inkscape:4961): \u001b[1;35mCRITICAL\u001b[0m **: \u001b[34m09:11:36.342\u001b[0m: dbus_g_proxy_new_for_name: assertion 'connection != NULL' failed\n",
      "\n",
      "** (inkscape:4961): \u001b[1;35mCRITICAL\u001b[0m **: \u001b[34m09:11:36.342\u001b[0m: dbus_g_proxy_call: assertion 'DBUS_IS_G_PROXY (proxy)' failed\n",
      "\n",
      "** (inkscape:4961): \u001b[1;35mCRITICAL\u001b[0m **: \u001b[34m09:11:36.342\u001b[0m: dbus_g_connection_register_g_object: assertion 'connection != NULL' failed\n"
     ]
    }
   ],
   "source": [
    "!pdf2svg plots/dpoints.pdf plots/dpoints.svg\n",
    "!inkscape plots/dpoints.svg -M plots/dpoints.emf"
   ]
  },
  {
   "cell_type": "code",
   "execution_count": 22,
   "metadata": {},
   "outputs": [
    {
     "name": "stdout",
     "output_type": "stream",
     "text": [
      "Failed to get connection\n",
      "** (inkscape:4826): \u001b[1;35mCRITICAL\u001b[0m **: \u001b[34m22:58:53.382\u001b[0m: dbus_g_proxy_new_for_name: assertion 'connection != NULL' failed\n",
      "\n",
      "** (inkscape:4826): \u001b[1;35mCRITICAL\u001b[0m **: \u001b[34m22:58:53.382\u001b[0m: dbus_g_proxy_call: assertion 'DBUS_IS_G_PROXY (proxy)' failed\n",
      "\n",
      "** (inkscape:4826): \u001b[1;35mCRITICAL\u001b[0m **: \u001b[34m22:58:53.382\u001b[0m: dbus_g_connection_register_g_object: assertion 'connection != NULL' failed\n",
      "\n",
      "** (inkscape:4826): \u001b[1;31mERROR\u001b[0m **: \u001b[34m22:58:54.052\u001b[0m: Fatal programming error in PrintEmf::begin at EMRHEADER\n",
      "Trace/breakpoint trap (core dumped)\n"
     ]
    }
   ],
   "source": [
    "!pdf2svg plots/*.pdf plots/*.svg\n",
    "!inkscape plots/*.svg -M plots/*.emf"
   ]
  },
  {
   "cell_type": "code",
   "execution_count": 112,
   "metadata": {},
   "outputs": [
    {
     "data": {
      "image/png": "[encoded data removed]",
      "text/plain": [
       "<Figure size 432x288 with 1 Axes>"
      ]
     },
     "metadata": {
      "needs_background": "light"
     },
     "output_type": "display_data"
    }
   ],
   "source": [
    "yprev = 0\n",
    "for x, y in zip(np.repeat(np.arange(len(labels)), 3).reshape(len(labels), -1).T, c[:,0].T):\n",
    "    plt.bar(x, y, bottom=yprev)\n",
    "    yprev += y"
   ]
  },
  {
   "cell_type": "code",
   "execution_count": 116,
   "metadata": {},
   "outputs": [
    {
     "data": {
      "image/png": "[encoded data removed]",
      "text/plain": [
       "<Figure size 432x288 with 1 Axes>"
      ]
     },
     "metadata": {
      "needs_background": "light"
     },
     "output_type": "display_data"
    }
   ],
   "source": [
    "yprev = 0\n",
    "for x, y in zip(np.repeat(np.arange(len(labels)), 3).reshape(len(labels), -1).T, c[:,1].T):\n",
    "    plt.bar(x, y, bottom=yprev)\n",
    "    yprev += y"
   ]
  },
  {
   "cell_type": "code",
   "execution_count": 76,
   "metadata": {},
   "outputs": [
    {
     "data": {
      "text/plain": [
       "array([[  10,    5,   13,    9,    9,    0,    0,    0,    2,    0,    0,\n",
       "           0,   16,    4,   75,    0,    0,    0,   61,    0,    0,    0,\n",
       "           0,    0],\n",
       "       [  61,   11,   47,   79,   79,    0,    0,    0,   19,    0,    0,\n",
       "           0,   65,   18, 1234,    0,    0,    0,    0,    0,    0,    0,\n",
       "           0,    0],\n",
       "       [  34,   10,   32,   35,   35,    0,    0,    0,    2,    0,    0,\n",
       "           0,   37,   12,  120,    0,    0,    0,    0,    0,    0,    0,\n",
       "           0,    0]])"
      ]
     },
     "execution_count": 76,
     "metadata": {},
     "output_type": "execute_result"
    }
   ],
   "source": [
    "c[:,1].T"
   ]
  },
  {
   "cell_type": "code",
   "execution_count": 85,
   "metadata": {},
   "outputs": [
    {
     "data": {
      "text/plain": [
       "<BarContainer object of 3 artists>"
      ]
     },
     "execution_count": 85,
     "metadata": {},
     "output_type": "execute_result"
    },
    {
     "data": {
      "image/png": "[encoded data removed]",
      "text/plain": [
       "<Figure size 432x288 with 1 Axes>"
      ]
     },
     "metadata": {
      "needs_background": "light"
     },
     "output_type": "display_data"
    }
   ],
   "source": [
    "y = [0.5, 3, 2]\n",
    "plt.bar([1,2,3], y)\n",
    "plt.bar([1,2,3], [0.7, 2, 1], bottom=y)"
   ]
  },
  {
   "cell_type": "code",
   "execution_count": 84,
   "metadata": {},
   "outputs": [
    {
     "data": {
      "image/png": "[encoded data removed]",
      "text/plain": [
       "<Figure size 432x288 with 1 Axes>"
      ]
     },
     "metadata": {
      "needs_background": "light"
     },
     "output_type": "display_data"
    }
   ],
   "source": [
    "import numpy as np\n",
    "import matplotlib.pyplot as plt\n",
    "\n",
    "\n",
    "N = 5\n",
    "menMeans = (20, 35, 30, 35, 27)\n",
    "womenMeans = (25, 32, 34, 20, 25)\n",
    "menStd = (2, 3, 4, 1, 2)\n",
    "womenStd = (3, 5, 2, 3, 3)\n",
    "ind = np.arange(N)    # the x locations for the groups\n",
    "width = 0.35       # the width of the bars: can also be len(x) sequence\n",
    "\n",
    "p1 = plt.bar(ind, menMeans, width, yerr=menStd)\n",
    "p2 = plt.bar(ind, womenMeans, width,\n",
    "             bottom=menMeans, yerr=womenStd)\n",
    "\n",
    "plt.ylabel('Scores')\n",
    "plt.title('Scores by group and gender')\n",
    "plt.xticks(ind, ('G1', 'G2', 'G3', 'G4', 'G5'))\n",
    "plt.yticks(np.arange(0, 81, 10))\n",
    "plt.legend((p1[0], p2[0]), ('Men', 'Women'))\n",
    "\n",
    "plt.show()"
   ]
  },
  {
   "cell_type": "code",
   "execution_count": 57,
   "metadata": {},
   "outputs": [
    {
     "data": {
      "text/plain": [
       "1567496182.9679885"
      ]
     },
     "execution_count": 57,
     "metadata": {},
     "output_type": "execute_result"
    }
   ],
   "source": [
    "import time\n",
    "time.time()"
   ]
  },
  {
   "cell_type": "code",
   "execution_count": 58,
   "metadata": {},
   "outputs": [
    {
     "data": {
      "text/plain": [
       "1348.5626921653748"
      ]
     },
     "execution_count": 58,
     "metadata": {},
     "output_type": "execute_result"
    }
   ],
   "source": [
    "1567497531.5306807 - 1567496182.9679885"
   ]
  },
  {
   "cell_type": "code",
   "execution_count": 59,
   "metadata": {},
   "outputs": [
    {
     "data": {
      "text/plain": [
       "22.476044869422914"
      ]
     },
     "execution_count": 59,
     "metadata": {},
     "output_type": "execute_result"
    }
   ],
   "source": [
    "1348.5626921653748/60"
   ]
  },
  {
   "cell_type": "code",
   "execution_count": null,
   "metadata": {},
   "outputs": [],
   "source": []
  }
 ],
 "metadata": {
  "kernelspec": {
   "display_name": "Python 3",
   "language": "python",
   "name": "python3"
  },
  "language_info": {
   "codemirror_mode": {
    "name": "ipython",
    "version": 3
   },
   "file_extension": ".py",
   "mimetype": "text/x-python",
   "name": "python",
   "nbconvert_exporter": "python",
   "pygments_lexer": "ipython3",
   "version": "3.6.8"
  }
 },
 "nbformat": 4,
 "nbformat_minor": 4
}
