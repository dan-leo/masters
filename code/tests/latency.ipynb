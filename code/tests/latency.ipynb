{
 "cells": [
  {
   "cell_type": "code",
   "execution_count": 23,
   "metadata": {},
   "outputs": [],
   "source": [
    "import numpy as np\n",
    "import matplotlib.pyplot as plt\n",
    "import jupyter as j\n",
    "import importlib\n",
    "\n",
    "def compare(*args, **kwargs):\n",
    "    importlib.reload(j)\n",
    "    j.compare(*args, **kwargs)"
   ]
  },
  {
   "cell_type": "code",
   "execution_count": 24,
   "metadata": {},
   "outputs": [
    {
     "name": "stdout",
     "output_type": "stream",
     "text": [
      "['release/release1/*', 'release/release16/*', 'release/release64/*', 'release/release128/*', 'release/release256/*', 'release/release512/*', 'release/release0/*', 'echo/deregister/*', 'echo/e/*', 'echo/echo/*', 'echo/register/*', 'cops/delay/*', 'cops/deregister/*', 'cops/release/*', 'cops/tensec/*', 'drx/cap/*', 'ptau/capture/*']\n"
     ]
    }
   ],
   "source": [
    "files = []\n",
    "files.append(['release/release1/*','release/release16/*','release/release64/*','release/release128/*','release/release256/*','release/release512/*', 'release/release0/*'])\n",
    "files.append(['echo/deregister/*', 'echo/e/*', 'echo/echo/*', 'echo/register/*'])\n",
    "files.append(['cops/delay/*', 'cops/deregister/*', 'cops/release/*', 'cops/tensec/*'])\n",
    "files.append(['drx/cap/*'])\n",
    "files.append(['ptau/capture/*'])\n",
    "files = sum(files, [])\n",
    "print(files)"
   ]
  },
  {
   "cell_type": "code",
   "execution_count": null,
   "metadata": {},
   "outputs": [
    {
     "name": "stdout",
     "output_type": "stream",
     "text": [
      "custom jupyter @DanielRobinson\n",
      "<class 'IndexError'> len(dc[x]) and len(dc[y]) 70 list index out of range\n",
      "<class 'IndexError'> len(dc[x]) and len(dc[y]) 44 list index out of range\n",
      "<class 'IndexError'> len(dc[x]) and len(dc[y]) 44 list index out of range\n",
      "<class 'IndexError'> len(dc[x]) and len(dc[y]) 43 list index out of range\n",
      "<class 'IndexError'> len(dc[x]) and len(dc[y]) 43 list index out of range\n",
      "<class 'IndexError'> len(dc[x]) and len(dc[y]) 43 list index out of range\n",
      "<class 'IndexError'> len(dc[x]) and len(dc[y]) 25 list index out of range\n",
      "<class 'IndexError'> len(dc[x]) and len(dc[y]) 27 list index out of range\n",
      "<class 'IndexError'> len(dc[x]) and len(dc[y]) 60 list index out of range\n",
      "<class 'IndexError'> len(dc[x]) and len(dc[y]) 9 list index out of range\n",
      "<class 'IndexError'> len(dc[x]) and len(dc[y]) 11 list index out of range\n",
      "<class 'IndexError'> len(dc[x]) and len(dc[y]) 15 list index out of range\n",
      "<class 'IndexError'> len(dc[x]) and len(dc[y]) 24 list index out of range\n",
      "<class 'IndexError'> len(dc[x]) and len(dc[y]) 17 list index out of range\n",
      "<class 'IndexError'> len(dc[x]) and len(dc[y]) 132 list index out of range\n",
      "<class 'IndexError'> len(dc[x]) and len(dc[y]) 63 list index out of range\n",
      "<class 'IndexError'> len(dc[x]) and len(dc[y]) 25 list index out of range\n",
      "<class 'IndexError'> len(dc[x]) and len(dc[y]) 25 list index out of range\n",
      "<class 'IndexError'> len(dc[x]) and len(dc[y]) 25 list index out of range\n",
      "<class 'IndexError'> len(dc[x]) and len(dc[y]) 25 list index out of range\n",
      "<class 'IndexError'> len(dc[x]) and len(dc[y]) 25 list index out of range\n",
      "<class 'IndexError'> len(dc[x]) and len(dc[y]) 25 list index out of range\n",
      "<class 'IndexError'> len(dc[x]) and len(dc[y]) 23 list index out of range\n",
      "<class 'IndexError'> len(dc[x]) and len(dc[y]) 59 list index out of range\n",
      "<class 'IndexError'> len(dc[x]) and len(dc[y]) 11 list index out of range\n",
      "<class 'IndexError'> len(dc[x]) and len(dc[y]) 34 list index out of range\n",
      "<class 'IndexError'> len(dc[x]) and len(dc[y]) 17 list index out of range\n",
      "<class 'IndexError'> len(dc[x]) and len(dc[y]) 25 list index out of range\n",
      "<class 'IndexError'> len(dc[x]) and len(dc[y]) 19 list index out of range\n",
      "<class 'IndexError'> len(dc[x]) and len(dc[y]) 85 list index out of range\n",
      "<class 'IndexError'> len(dc[x]) and len(dc[y]) 70 list index out of range\n",
      "<class 'IndexError'> len(dc[x]) and len(dc[y]) 9 list index out of range\n",
      "<class 'IndexError'> len(dc[x]) and len(dc[y]) 8 list index out of range\n",
      "<class 'IndexError'> len(dc[x]) and len(dc[y]) 8 list index out of range\n",
      "<class 'IndexError'> len(dc[x]) and len(dc[y]) 7 list index out of range\n",
      "<class 'IndexError'> len(dc[x]) and len(dc[y]) 8 list index out of range\n",
      "<class 'IndexError'> len(dc[x]) and len(dc[y]) 8 list index out of range\n",
      "<class 'IndexError'> len(dc[x]) and len(dc[y]) 9 list index out of range\n",
      "<class 'IndexError'> len(dc[x]) and len(dc[y]) 23 list index out of range\n",
      "<class 'IndexError'> len(dc[x]) and len(dc[y]) 15 list index out of range\n",
      "<class 'IndexError'> len(dc[x]) and len(dc[y]) 18 list index out of range\n",
      "<class 'IndexError'> len(dc[x]) and len(dc[y]) 3 list index out of range\n",
      "<class 'IndexError'> len(dc[x]) and len(dc[y]) 3 list index out of range\n",
      "<class 'IndexError'> len(dc[x]) and len(dc[y]) 4 list index out of range\n",
      "<class 'IndexError'> len(dc[x]) and len(dc[y]) 6 list index out of range\n",
      "<class 'IndexError'> len(dc[x]) and len(dc[y]) 7 list index out of range\n",
      "<class 'IndexError'> len(dc[x]) and len(dc[y]) 89 list index out of range\n",
      "<class 'IndexError'> len(dc[x]) and len(dc[y]) 35 list index out of range\n",
      "<class 'IndexError'> len(dc[x]) and len(dc[y]) 14 list index out of range\n",
      "<class 'IndexError'> len(dc[x]) and len(dc[y]) 12 list index out of range\n",
      "<class 'IndexError'> len(dc[x]) and len(dc[y]) 12 list index out of range\n",
      "<class 'IndexError'> len(dc[x]) and len(dc[y]) 12 list index out of range\n",
      "<class 'IndexError'> len(dc[x]) and len(dc[y]) 13 list index out of range\n",
      "<class 'IndexError'> len(dc[x]) and len(dc[y]) 13 list index out of range\n",
      "<class 'IndexError'> len(dc[x]) and len(dc[y]) 14 list index out of range\n",
      "<class 'IndexError'> len(dc[x]) and len(dc[y]) 20 list index out of range\n",
      "<class 'IndexError'> len(dc[x]) and len(dc[y]) 28 list index out of range\n",
      "<class 'IndexError'> len(dc[x]) and len(dc[y]) 15 list index out of range\n",
      "<class 'IndexError'> len(dc[x]) and len(dc[y]) 5 list index out of range\n",
      "<class 'IndexError'> len(dc[x]) and len(dc[y]) 4 list index out of range\n",
      "<class 'IndexError'> len(dc[x]) and len(dc[y]) 11 list index out of range\n",
      "<class 'IndexError'> len(dc[x]) and len(dc[y]) 4 list index out of range\n",
      "<class 'IndexError'> len(dc[x]) and len(dc[y]) 210 list index out of range\n",
      "<class 'IndexError'> len(dc[x]) and len(dc[y]) 48 list index out of range\n",
      "<class 'IndexError'> len(dc[x]) and len(dc[y]) 70 list index out of range\n",
      "<class 'IndexError'> len(dc[x]) and len(dc[y]) 44 list index out of range\n",
      "<class 'IndexError'> len(dc[x]) and len(dc[y]) 44 list index out of range\n",
      "<class 'IndexError'> len(dc[x]) and len(dc[y]) 43 list index out of range\n",
      "<class 'IndexError'> len(dc[x]) and len(dc[y]) 43 list index out of range\n",
      "<class 'IndexError'> len(dc[x]) and len(dc[y]) 43 list index out of range\n",
      "<class 'IndexError'> len(dc[x]) and len(dc[y]) 25 list index out of range\n",
      "<class 'IndexError'> len(dc[x]) and len(dc[y]) 27 list index out of range\n",
      "<class 'IndexError'> len(dc[x]) and len(dc[y]) 60 list index out of range\n",
      "<class 'IndexError'> len(dc[x]) and len(dc[y]) 9 list index out of range\n",
      "<class 'IndexError'> len(dc[x]) and len(dc[y]) 11 list index out of range\n",
      "<class 'IndexError'> len(dc[x]) and len(dc[y]) 15 list index out of range\n",
      "<class 'IndexError'> len(dc[x]) and len(dc[y]) 24 list index out of range\n",
      "<class 'IndexError'> len(dc[x]) and len(dc[y]) 17 list index out of range\n",
      "<class 'IndexError'> len(dc[x]) and len(dc[y]) 132 list index out of range\n",
      "<class 'IndexError'> len(dc[x]) and len(dc[y]) 63 list index out of range\n",
      "<class 'IndexError'> len(dc[x]) and len(dc[y]) 25 list index out of range\n",
      "<class 'IndexError'> len(dc[x]) and len(dc[y]) 25 list index out of range\n",
      "<class 'IndexError'> len(dc[x]) and len(dc[y]) 25 list index out of range\n",
      "<class 'IndexError'> len(dc[x]) and len(dc[y]) 25 list index out of range\n",
      "<class 'IndexError'> len(dc[x]) and len(dc[y]) 25 list index out of range\n",
      "<class 'IndexError'> len(dc[x]) and len(dc[y]) 25 list index out of range\n",
      "<class 'IndexError'> len(dc[x]) and len(dc[y]) 23 list index out of range\n",
      "<class 'IndexError'> len(dc[x]) and len(dc[y]) 59 list index out of range\n",
      "<class 'IndexError'> len(dc[x]) and len(dc[y]) 11 list index out of range\n",
      "<class 'IndexError'> len(dc[x]) and len(dc[y]) 34 list index out of range\n",
      "<class 'IndexError'> len(dc[x]) and len(dc[y]) 17 list index out of range\n",
      "<class 'IndexError'> len(dc[x]) and len(dc[y]) 25 list index out of range\n",
      "<class 'IndexError'> len(dc[x]) and len(dc[y]) 19 list index out of range\n",
      "<class 'IndexError'> len(dc[x]) and len(dc[y]) 85 list index out of range\n",
      "<class 'IndexError'> len(dc[x]) and len(dc[y]) 70 list index out of range\n",
      "<class 'IndexError'> len(dc[x]) and len(dc[y]) 9 list index out of range\n",
      "<class 'IndexError'> len(dc[x]) and len(dc[y]) 8 list index out of range\n",
      "<class 'IndexError'> len(dc[x]) and len(dc[y]) 8 list index out of range\n",
      "<class 'IndexError'> len(dc[x]) and len(dc[y]) 7 list index out of range\n",
      "<class 'IndexError'> len(dc[x]) and len(dc[y]) 8 list index out of range\n",
      "<class 'IndexError'> len(dc[x]) and len(dc[y]) 8 list index out of range\n",
      "<class 'IndexError'> len(dc[x]) and len(dc[y]) 9 list index out of range\n",
      "<class 'IndexError'> len(dc[x]) and len(dc[y]) 23 list index out of range\n",
      "<class 'IndexError'> len(dc[x]) and len(dc[y]) 15 list index out of range\n",
      "<class 'IndexError'> len(dc[x]) and len(dc[y]) 18 list index out of range\n",
      "<class 'IndexError'> len(dc[x]) and len(dc[y]) 3 list index out of range\n",
      "<class 'IndexError'> len(dc[x]) and len(dc[y]) 3 list index out of range\n",
      "<class 'IndexError'> len(dc[x]) and len(dc[y]) 4 list index out of range\n",
      "<class 'IndexError'> len(dc[x]) and len(dc[y]) 6 list index out of range\n",
      "<class 'IndexError'> len(dc[x]) and len(dc[y]) 7 list index out of range\n",
      "<class 'IndexError'> len(dc[x]) and len(dc[y]) 89 list index out of range\n",
      "<class 'IndexError'> len(dc[x]) and len(dc[y]) 35 list index out of range\n",
      "<class 'IndexError'> len(dc[x]) and len(dc[y]) 14 list index out of range\n",
      "<class 'IndexError'> len(dc[x]) and len(dc[y]) 12 list index out of range\n",
      "<class 'IndexError'> len(dc[x]) and len(dc[y]) 12 list index out of range\n",
      "<class 'IndexError'> len(dc[x]) and len(dc[y]) 12 list index out of range\n",
      "<class 'IndexError'> len(dc[x]) and len(dc[y]) 13 list index out of range\n",
      "<class 'IndexError'> len(dc[x]) and len(dc[y]) 13 list index out of range\n",
      "<class 'IndexError'> len(dc[x]) and len(dc[y]) 14 list index out of range\n",
      "<class 'IndexError'> len(dc[x]) and len(dc[y]) 20 list index out of range\n",
      "<class 'IndexError'> len(dc[x]) and len(dc[y]) 28 list index out of range\n",
      "<class 'IndexError'> len(dc[x]) and len(dc[y]) 15 list index out of range\n",
      "<class 'IndexError'> len(dc[x]) and len(dc[y]) 5 list index out of range\n",
      "<class 'IndexError'> len(dc[x]) and len(dc[y]) 4 list index out of range\n",
      "<class 'IndexError'> len(dc[x]) and len(dc[y]) 11 list index out of range\n",
      "<class 'IndexError'> len(dc[x]) and len(dc[y]) 4 list index out of range\n",
      "<class 'IndexError'> len(dc[x]) and len(dc[y]) 210 list index out of range\n",
      "<class 'IndexError'> len(dc[x]) and len(dc[y]) 48 list index out of range\n"
     ]
    }
   ],
   "source": [
    "def thresh(a, key, split):\n",
    "    a = np.array(a[key])\n",
    "    r = a == a\n",
    "    lim = [None, None]\n",
    "    tsplit, slen = split\n",
    "    if key == 'txTime':\n",
    "        r *= a > 100\n",
    "        limits = [10000, 5000, 500]\n",
    "        r, lim = j.splitter(r, a, limits, split)\n",
    "    elif key == 'Signal power':\n",
    "        r *= a > -1350\n",
    "        # lim = [-1300, -700]\n",
    "    return r, lim\n",
    "compare(files, thresh, 'UDP packet latency vs Received Signal power', 'Latency (s)', 'RSRP (dBm)', 'txTime', 'Signal power', 1000, 10, split=4)"
   ]
  },
  {
   "cell_type": "code",
   "execution_count": 13,
   "metadata": {},
   "outputs": [
    {
     "data": {
      "text/plain": [
       "\u001b[1;31mSignature:\u001b[0m\n",
       "\u001b[0mplt\u001b[0m\u001b[1;33m.\u001b[0m\u001b[0mhist\u001b[0m\u001b[1;33m(\u001b[0m\u001b[1;33m\n",
       "\u001b[0m    \u001b[0mx\u001b[0m\u001b[1;33m,\u001b[0m\u001b[1;33m\n",
       "\u001b[0m    \u001b[0mbins\u001b[0m\u001b[1;33m=\u001b[0m\u001b[1;32mNone\u001b[0m\u001b[1;33m,\u001b[0m\u001b[1;33m\n",
       "\u001b[0m    \u001b[0mrange\u001b[0m\u001b[1;33m=\u001b[0m\u001b[1;32mNone\u001b[0m\u001b[1;33m,\u001b[0m\u001b[1;33m\n",
       "\u001b[0m    \u001b[0mdensity\u001b[0m\u001b[1;33m=\u001b[0m\u001b[1;32mNone\u001b[0m\u001b[1;33m,\u001b[0m\u001b[1;33m\n",
       "\u001b[0m    \u001b[0mweights\u001b[0m\u001b[1;33m=\u001b[0m\u001b[1;32mNone\u001b[0m\u001b[1;33m,\u001b[0m\u001b[1;33m\n",
       "\u001b[0m    \u001b[0mcumulative\u001b[0m\u001b[1;33m=\u001b[0m\u001b[1;32mFalse\u001b[0m\u001b[1;33m,\u001b[0m\u001b[1;33m\n",
       "\u001b[0m    \u001b[0mbottom\u001b[0m\u001b[1;33m=\u001b[0m\u001b[1;32mNone\u001b[0m\u001b[1;33m,\u001b[0m\u001b[1;33m\n",
       "\u001b[0m    \u001b[0mhisttype\u001b[0m\u001b[1;33m=\u001b[0m\u001b[1;34m'bar'\u001b[0m\u001b[1;33m,\u001b[0m\u001b[1;33m\n",
       "\u001b[0m    \u001b[0malign\u001b[0m\u001b[1;33m=\u001b[0m\u001b[1;34m'mid'\u001b[0m\u001b[1;33m,\u001b[0m\u001b[1;33m\n",
       "\u001b[0m    \u001b[0morientation\u001b[0m\u001b[1;33m=\u001b[0m\u001b[1;34m'vertical'\u001b[0m\u001b[1;33m,\u001b[0m\u001b[1;33m\n",
       "\u001b[0m    \u001b[0mrwidth\u001b[0m\u001b[1;33m=\u001b[0m\u001b[1;32mNone\u001b[0m\u001b[1;33m,\u001b[0m\u001b[1;33m\n",
       "\u001b[0m    \u001b[0mlog\u001b[0m\u001b[1;33m=\u001b[0m\u001b[1;32mFalse\u001b[0m\u001b[1;33m,\u001b[0m\u001b[1;33m\n",
       "\u001b[0m    \u001b[0mcolor\u001b[0m\u001b[1;33m=\u001b[0m\u001b[1;32mNone\u001b[0m\u001b[1;33m,\u001b[0m\u001b[1;33m\n",
       "\u001b[0m    \u001b[0mlabel\u001b[0m\u001b[1;33m=\u001b[0m\u001b[1;32mNone\u001b[0m\u001b[1;33m,\u001b[0m\u001b[1;33m\n",
       "\u001b[0m    \u001b[0mstacked\u001b[0m\u001b[1;33m=\u001b[0m\u001b[1;32mFalse\u001b[0m\u001b[1;33m,\u001b[0m\u001b[1;33m\n",
       "\u001b[0m    \u001b[0mnormed\u001b[0m\u001b[1;33m=\u001b[0m\u001b[1;32mNone\u001b[0m\u001b[1;33m,\u001b[0m\u001b[1;33m\n",
       "\u001b[0m    \u001b[1;33m*\u001b[0m\u001b[1;33m,\u001b[0m\u001b[1;33m\n",
       "\u001b[0m    \u001b[0mdata\u001b[0m\u001b[1;33m=\u001b[0m\u001b[1;32mNone\u001b[0m\u001b[1;33m,\u001b[0m\u001b[1;33m\n",
       "\u001b[0m    \u001b[1;33m**\u001b[0m\u001b[0mkwargs\u001b[0m\u001b[1;33m,\u001b[0m\u001b[1;33m\n",
       "\u001b[0m\u001b[1;33m)\u001b[0m\u001b[1;33m\u001b[0m\u001b[1;33m\u001b[0m\u001b[0m\n",
       "\u001b[1;31mDocstring:\u001b[0m\n",
       "Plot a histogram.\n",
       "\n",
       "Compute and draw the histogram of *x*.  The return value is a tuple\n",
       "(*n*, *bins*, *patches*) or ([*n0*, *n1*, ...], *bins*, [*patches0*,\n",
       "*patches1*,...]) if the input contains multiple data.  See the\n",
       "documentation of the *weights* parameter to draw a histogram of\n",
       "already-binned data.\n",
       "\n",
       "Multiple data can be provided via *x* as a list of datasets\n",
       "of potentially different length ([*x0*, *x1*, ...]), or as\n",
       "a 2-D ndarray in which each column is a dataset.  Note that\n",
       "the ndarray form is transposed relative to the list form.\n",
       "\n",
       "Masked arrays are not supported at present.\n",
       "\n",
       "Parameters\n",
       "----------\n",
       "x : (n,) array or sequence of (n,) arrays\n",
       "    Input values, this takes either a single array or a sequence of\n",
       "    arrays which are not required to be of the same length.\n",
       "\n",
       "bins : int or sequence or str, optional\n",
       "    If an integer is given, ``bins + 1`` bin edges are calculated and\n",
       "    returned, consistent with `numpy.histogram`.\n",
       "\n",
       "    If `bins` is a sequence, gives bin edges, including left edge of\n",
       "    first bin and right edge of last bin.  In this case, `bins` is\n",
       "    returned unmodified.\n",
       "\n",
       "    All but the last (righthand-most) bin is half-open.  In other\n",
       "    words, if `bins` is::\n",
       "\n",
       "        [1, 2, 3, 4]\n",
       "\n",
       "    then the first bin is ``[1, 2)`` (including 1, but excluding 2) and\n",
       "    the second ``[2, 3)``.  The last bin, however, is ``[3, 4]``, which\n",
       "    *includes* 4.\n",
       "\n",
       "    Unequally spaced bins are supported if *bins* is a sequence.\n",
       "\n",
       "    With Numpy 1.11 or newer, you can alternatively provide a string\n",
       "    describing a binning strategy, such as 'auto', 'sturges', 'fd',\n",
       "    'doane', 'scott', 'rice' or 'sqrt', see\n",
       "    `numpy.histogram`.\n",
       "\n",
       "    The default is taken from :rc:`hist.bins`.\n",
       "\n",
       "range : tuple or None, optional\n",
       "    The lower and upper range of the bins. Lower and upper outliers\n",
       "    are ignored. If not provided, *range* is ``(x.min(), x.max())``.\n",
       "    Range has no effect if *bins* is a sequence.\n",
       "\n",
       "    If *bins* is a sequence or *range* is specified, autoscaling\n",
       "    is based on the specified bin range instead of the\n",
       "    range of x.\n",
       "\n",
       "    Default is ``None``\n",
       "\n",
       "density : bool, optional\n",
       "    If ``True``, the first element of the return tuple will\n",
       "    be the counts normalized to form a probability density, i.e.,\n",
       "    the area (or integral) under the histogram will sum to 1.\n",
       "    This is achieved by dividing the count by the number of\n",
       "    observations times the bin width and not dividing by the total\n",
       "    number of observations. If *stacked* is also ``True``, the sum of\n",
       "    the histograms is normalized to 1.\n",
       "\n",
       "    Default is ``None`` for both *normed* and *density*. If either is\n",
       "    set, then that value will be used. If neither are set, then the\n",
       "    args will be treated as ``False``.\n",
       "\n",
       "    If both *density* and *normed* are set an error is raised.\n",
       "\n",
       "weights : (n, ) array_like or None, optional\n",
       "    An array of weights, of the same shape as *x*.  Each value in *x*\n",
       "    only contributes its associated weight towards the bin count\n",
       "    (instead of 1).  If *normed* or *density* is ``True``,\n",
       "    the weights are normalized, so that the integral of the density\n",
       "    over the range remains 1.\n",
       "\n",
       "    Default is ``None``.\n",
       "\n",
       "    This parameter can be used to draw a histogram of data that has\n",
       "    already been binned, e.g. using `np.histogram` (by treating each\n",
       "    bin as a single point with a weight equal to its count) ::\n",
       "\n",
       "        counts, bins = np.histogram(data)\n",
       "        plt.hist(bins[:-1], bins, weights=counts)\n",
       "\n",
       "    (or you may alternatively use `~.bar()`).\n",
       "\n",
       "cumulative : bool, optional\n",
       "    If ``True``, then a histogram is computed where each bin gives the\n",
       "    counts in that bin plus all bins for smaller values. The last bin\n",
       "    gives the total number of datapoints. If *normed* or *density*\n",
       "    is also ``True`` then the histogram is normalized such that the\n",
       "    last bin equals 1. If *cumulative* evaluates to less than 0\n",
       "    (e.g., -1), the direction of accumulation is reversed.\n",
       "    In this case, if *normed* and/or *density* is also ``True``, then\n",
       "    the histogram is normalized such that the first bin equals 1.\n",
       "\n",
       "    Default is ``False``\n",
       "\n",
       "bottom : array_like, scalar, or None\n",
       "    Location of the bottom baseline of each bin.  If a scalar,\n",
       "    the base line for each bin is shifted by the same amount.\n",
       "    If an array, each bin is shifted independently and the length\n",
       "    of bottom must match the number of bins.  If None, defaults to 0.\n",
       "\n",
       "    Default is ``None``\n",
       "\n",
       "histtype : {'bar', 'barstacked', 'step',  'stepfilled'}, optional\n",
       "    The type of histogram to draw.\n",
       "\n",
       "    - 'bar' is a traditional bar-type histogram.  If multiple data\n",
       "      are given the bars are arranged side by side.\n",
       "\n",
       "    - 'barstacked' is a bar-type histogram where multiple\n",
       "      data are stacked on top of each other.\n",
       "\n",
       "    - 'step' generates a lineplot that is by default\n",
       "      unfilled.\n",
       "\n",
       "    - 'stepfilled' generates a lineplot that is by default\n",
       "      filled.\n",
       "\n",
       "    Default is 'bar'\n",
       "\n",
       "align : {'left', 'mid', 'right'}, optional\n",
       "    Controls how the histogram is plotted.\n",
       "\n",
       "        - 'left': bars are centered on the left bin edges.\n",
       "\n",
       "        - 'mid': bars are centered between the bin edges.\n",
       "\n",
       "        - 'right': bars are centered on the right bin edges.\n",
       "\n",
       "    Default is 'mid'\n",
       "\n",
       "orientation : {'horizontal', 'vertical'}, optional\n",
       "    If 'horizontal', `~matplotlib.pyplot.barh` will be used for\n",
       "    bar-type histograms and the *bottom* kwarg will be the left edges.\n",
       "\n",
       "rwidth : scalar or None, optional\n",
       "    The relative width of the bars as a fraction of the bin width.  If\n",
       "    ``None``, automatically compute the width.\n",
       "\n",
       "    Ignored if *histtype* is 'step' or 'stepfilled'.\n",
       "\n",
       "    Default is ``None``\n",
       "\n",
       "log : bool, optional\n",
       "    If ``True``, the histogram axis will be set to a log scale. If\n",
       "    *log* is ``True`` and *x* is a 1D array, empty bins will be\n",
       "    filtered out and only the non-empty ``(n, bins, patches)``\n",
       "    will be returned.\n",
       "\n",
       "    Default is ``False``\n",
       "\n",
       "color : color or array_like of colors or None, optional\n",
       "    Color spec or sequence of color specs, one per dataset.  Default\n",
       "    (``None``) uses the standard line color sequence.\n",
       "\n",
       "    Default is ``None``\n",
       "\n",
       "label : str or None, optional\n",
       "    String, or sequence of strings to match multiple datasets.  Bar\n",
       "    charts yield multiple patches per dataset, but only the first gets\n",
       "    the label, so that the legend command will work as expected.\n",
       "\n",
       "    default is ``None``\n",
       "\n",
       "stacked : bool, optional\n",
       "    If ``True``, multiple data are stacked on top of each other If\n",
       "    ``False`` multiple data are arranged side by side if histtype is\n",
       "    'bar' or on top of each other if histtype is 'step'\n",
       "\n",
       "    Default is ``False``\n",
       "\n",
       "normed : bool, optional\n",
       "    Deprecated; use the density keyword argument instead.\n",
       "\n",
       "Returns\n",
       "-------\n",
       "n : array or list of arrays\n",
       "    The values of the histogram bins. See *density* and *weights* for a\n",
       "    description of the possible semantics.  If input *x* is an array,\n",
       "    then this is an array of length *nbins*. If input is a sequence of\n",
       "    arrays ``[data1, data2,..]``, then this is a list of arrays with\n",
       "    the values of the histograms for each of the arrays in the same\n",
       "    order.  The dtype of the array *n* (or of its element arrays) will\n",
       "    always be float even if no weighting or normalization is used.\n",
       "\n",
       "bins : array\n",
       "    The edges of the bins. Length nbins + 1 (nbins left edges and right\n",
       "    edge of last bin).  Always a single array even when multiple data\n",
       "    sets are passed in.\n",
       "\n",
       "patches : list or list of lists\n",
       "    Silent list of individual patches used to create the histogram\n",
       "    or list of such list if multiple input datasets.\n",
       "\n",
       "Other Parameters\n",
       "----------------\n",
       "**kwargs : `~matplotlib.patches.Patch` properties\n",
       "\n",
       "See also\n",
       "--------\n",
       "hist2d : 2D histograms\n",
       "\n",
       "Notes\n",
       "-----\n",
       "\n",
       "\n",
       ".. note::\n",
       "    In addition to the above described arguments, this function can take a\n",
       "    **data** keyword argument. If such a **data** argument is given, the\n",
       "    following arguments are replaced by **data[<arg>]**:\n",
       "\n",
       "    * All arguments with the following names: 'weights', 'x'.\n",
       "\n",
       "    Objects passed as **data** must support item access (``data[<arg>]``) and\n",
       "    membership test (``<arg> in data``).\n",
       "\u001b[1;31mFile:\u001b[0m      c:\\users\\d7rob\\appdata\\local\\programs\\python\\python37\\lib\\site-packages\\matplotlib\\pyplot.py\n",
       "\u001b[1;31mType:\u001b[0m      function\n"
      ]
     },
     "metadata": {},
     "output_type": "display_data"
    }
   ],
   "source": [
    "plt.hist?"
   ]
  },
  {
   "cell_type": "code",
   "execution_count": 58,
   "metadata": {},
   "outputs": [
    {
     "data": {
      "image/png": "[encoded data removed]",
      "text/plain": [
       "<Figure size 432x288 with 4 Axes>"
      ]
     },
     "metadata": {
      "needs_background": "light"
     },
     "output_type": "display_data"
    }
   ],
   "source": [
    "import numpy as np\n",
    "import matplotlib.pyplot as plt\n",
    "\n",
    "np.random.seed(19680801)\n",
    "\n",
    "n_bins = 10\n",
    "x = np.random.randn(1000, 3)\n",
    "\n",
    "fig, axes = plt.subplots(nrows=2, ncols=2)\n",
    "ax0, ax1, ax2, ax3 = axes.flatten()\n",
    "\n",
    "colors = ['red', 'tan', 'lime']\n",
    "ax0.hist(x, n_bins, density=True, histtype='bar', color=colors, label=colors)\n",
    "ax0.legend(prop={'size': 10})\n",
    "ax0.set_title('bars with legend')\n",
    "\n",
    "ax1.hist(x, n_bins, density=True, histtype='bar', stacked=True)\n",
    "ax1.set_title('stacked bar')\n",
    "\n",
    "ax2.hist(x, n_bins, histtype='step', stacked=True, fill=False)\n",
    "ax2.set_title('stack step (unfilled)')\n",
    "\n",
    "# Make a multiple-histogram of data-sets with different length.\n",
    "x_multi = [np.random.randn(n) for n in [10000, 5000, 2000]]\n",
    "ax3.hist(x_multi, n_bins, histtype='bar')\n",
    "ax3.set_title('different sample sizes')\n",
    "\n",
    "fig.tight_layout()\n",
    "plt.show()"
   ]
  },
  {
   "cell_type": "code",
   "execution_count": 33,
   "metadata": {},
   "outputs": [
    {
     "name": "stdout",
     "output_type": "stream",
     "text": [
      "custom jupyter @DanielRobinson\n",
      "[ 50.  68.  85. 102. 120. 138. 155. 172. 190. 208. 225. 242. 260. 278.\n",
      " 295. 312. 330. 348. 365. 382. 400.]\n",
      "[ 50.  68.  85. 102. 120. 138. 155. 172. 190. 208. 225. 242. 260. 278.\n",
      " 295. 312. 330. 348. 365. 382. 400.]\n",
      "[ 5.  7. 10. 12. 14. 16. 18. 21. 23. 25. 28. 30. 32. 34. 36. 39. 41. 43.\n",
      " 46. 48. 50.]\n",
      "[ 5.  7. 10. 12. 14. 16. 18. 21. 23. 25. 28. 30. 32. 34. 36. 39. 41. 43.\n",
      " 46. 48. 50.]\n",
      "[0. 1. 1. 1. 1. 2. 2. 2. 2. 3. 3. 3. 3. 3. 4. 4. 4. 4. 5. 5. 5.]\n",
      "[0. 1. 1. 1. 1. 2. 2. 2. 2. 3. 3. 3. 3. 3. 4. 4. 4. 4. 5. 5. 5.]\n",
      "dirr logs/zte_mtn/rf_shield/ublox/\n",
      "dirr logs/zte_mtn/rf_shield/quectel/\n",
      "[0. 0. 0. 0. 0. 0. 0. 0. 0. 0. 0. 0. 0. 0. 0. 0. 0. 0. 0. 0. 0.]\n",
      "dirr logs/nokia_vodacom/centurycity/ublox/\n",
      "dirr logs/nokia_vodacom/centurycity/quectel/\n",
      "[0. 0. 0. 0. 0. 0. 0. 0. 0. 0. 0. 0. 0. 0. 0. 0. 0. 0. 0. 0. 0.]\n"
     ]
    },
    {
     "data": {
      "image/png": "[encoded data removed]",
      "text/plain": [
       "<Figure size 1008x1296 with 8 Axes>"
      ]
     },
     "metadata": {
      "needs_background": "light"
     },
     "output_type": "display_data"
    }
   ],
   "source": [
    "def thresh(a, key, split):\n",
    "    a = np.array(a[key])\n",
    "    r = a == a\n",
    "    lim = [None, None]\n",
    "    tsplit, slen = split\n",
    "    if key == 'txTime':\n",
    "        r *= a > 0\n",
    "        limits = [400000, 50000, 5000, 500, 100]\n",
    "        r, lim = j.splitter(r, a, limits, split, True)\n",
    "    return r, lim\n",
    "compare(files, thresh, 'UDP packet latency histogram', 'Count', 'Latency (s)', 'txTime', 'Signal power', 1000, 10, split=4, hist=True, log=True)"
   ]
  },
  {
   "cell_type": "code",
   "execution_count": 79,
   "metadata": {},
   "outputs": [
    {
     "name": "stdout",
     "output_type": "stream",
     "text": [
      "custom jupyter @DanielRobinson\n"
     ]
    },
    {
     "data": {
      "image/png": "[encoded data removed]",
      "text/plain": [
       "<Figure size 1008x432 with 2 Axes>"
      ]
     },
     "metadata": {
      "needs_background": "light"
     },
     "output_type": "display_data"
    }
   ],
   "source": [
    "def thresh(a, key, split):\n",
    "    a = np.array(a[key])\n",
    "    r = a == a\n",
    "    lim = [None, None]\n",
    "    tsplit, slen = split\n",
    "    if key == 'txTime':\n",
    "        r *= a > 0\n",
    "        # limits = [50000, 5000, 500]\n",
    "        limits = [400000, 50000, 5000, 500, 100]\n",
    "        r, lim = j.splitter(r, a, limits, split, True)\n",
    "    return r, lim\n",
    "compare(files, thresh, 'UDP packet latency histogram', 'Count', 'Latency (s)', 'txTime', 'Signal power', 1000, 10, split=1, hist=True, log=True)"
   ]
  },
  {
   "cell_type": "code",
   "execution_count": 145,
   "metadata": {},
   "outputs": [
    {
     "name": "stdout",
     "output_type": "stream",
     "text": [
      "custom jupyter @DanielRobinson\n"
     ]
    },
    {
     "data": {
      "image/png": "[encoded data removed]",
      "text/plain": [
       "<Figure size 1008x432 with 2 Axes>"
      ]
     },
     "metadata": {
      "needs_background": "light"
     },
     "output_type": "display_data"
    }
   ],
   "source": [
    "def thresh(a, key, split):\n",
    "    a = np.array(a[key])\n",
    "    r = a == a\n",
    "    lim = [None, None]\n",
    "    tsplit, slen = split\n",
    "    if key == 'txTime':\n",
    "        r *= a > 0\n",
    "        # limits = [50000, 5000, 500]\n",
    "        limits = [400000, 50000, 5000, 500, 100]\n",
    "        r, lim = j.splitter(r, a, limits, split, True)\n",
    "    return r, lim\n",
    "compare(files, thresh, 'UDP packet latency histogram', 'Count', 'Latency (s)', 'txTime', 'Signal power', 1000, 10, split=1, hist=True, log=True)"
   ]
  },
  {
   "cell_type": "code",
   "execution_count": 25,
   "metadata": {},
   "outputs": [
    {
     "name": "stdout",
     "output_type": "stream",
     "text": [
      "custom jupyter @DanielRobinson\n",
      "dirr logs/zte_mtn/rf_shield/ublox/\n",
      "dirr logs/zte_mtn/rf_shield/quectel/\n",
      "dirr logs/nokia_vodacom/centurycity/ublox/\n",
      "dirr logs/nokia_vodacom/centurycity/quectel/\n"
     ]
    },
    {
     "data": {
      "image/png": "[encoded data removed]",
      "text/plain": [
       "<Figure size 1008x432 with 2 Axes>"
      ]
     },
     "metadata": {
      "needs_background": "light"
     },
     "output_type": "display_data"
    }
   ],
   "source": [
    "ykey = 'txTime'\n",
    "xkey = 'Signal power'\n",
    "def thresh(a, key, split):\n",
    "    a = np.array(a[key])\n",
    "    r = a == a\n",
    "    lim = [None, None]\n",
    "    tsplit, slen = split\n",
    "    if key == 'txTime':\n",
    "        r *= a > 0\n",
    "#         limits = [400000, 100]\n",
    "        limits = [350000, 50000, 5000, 500, 100]\n",
    "        r, lim = j.splitter(r, a, limits, split, True)\n",
    "#     elif key == 'Signal power':\n",
    "#         r *= a > -1350\n",
    "#         # lim = [-1300, -700]\n",
    "    return r, lim\n",
    "compare(files, thresh, 'UDP packet latency histogram', 'Count', 'Latency (s)', ykey, xkey, 1000, 10, split=1, hist=True, log=True)"
   ]
  },
  {
   "cell_type": "code",
   "execution_count": 20,
   "metadata": {},
   "outputs": [
    {
     "name": "stdout",
     "output_type": "stream",
     "text": [
      "custom jupyter @DanielRobinson\n",
      "dirr logs/zte_mtn/rf_shield/ublox/\n",
      "dirr logs/zte_mtn/rf_shield/quectel/\n",
      "dirr logs/nokia_vodacom/centurycity/ublox/\n",
      "dirr logs/nokia_vodacom/centurycity/quectel/\n"
     ]
    },
    {
     "data": {
      "image/png": "[encoded data removed]",
      "text/plain": [
       "<Figure size 1008x432 with 2 Axes>"
      ]
     },
     "metadata": {
      "needs_background": "light"
     },
     "output_type": "display_data"
    }
   ],
   "source": [
    "compare(files, thresh, 'UDP packet latency histogram', 'Count', 'Latency (s)', 'txTime', 'Signal power', 1000, 10, split=1, hist=True)"
   ]
  },
  {
   "cell_type": "code",
   "execution_count": 21,
   "metadata": {},
   "outputs": [
    {
     "name": "stdout",
     "output_type": "stream",
     "text": [
      "custom jupyter @DanielRobinson\n",
      "dirr logs/zte_mtn/rf_shield/ublox/\n",
      "dirr logs/zte_mtn/rf_shield/quectel/\n",
      "dirr logs/nokia_vodacom/centurycity/ublox/\n",
      "dirr logs/nokia_vodacom/centurycity/quectel/\n"
     ]
    },
    {
     "data": {
      "image/png": "[encoded data removed]",
      "text/plain": [
       "<Figure size 1008x432 with 2 Axes>"
      ]
     },
     "metadata": {
      "needs_background": "light"
     },
     "output_type": "display_data"
    }
   ],
   "source": [
    "def thresh(a, key, split):\n",
    "    a = np.array(a[key])\n",
    "    r = a == a\n",
    "    lim = [None, None]\n",
    "    if key == 'txTime':\n",
    "        r *= a > 100\n",
    "    return r, lim\n",
    "compare(files, thresh, 'UDP packet latency histogram', 'Count', 'Latency (s)', 'txTime', 'Signal power', 1000, 10, split=1, hist=True)"
   ]
  },
  {
   "cell_type": "code",
   "execution_count": 184,
   "metadata": {},
   "outputs": [
    {
     "data": {
      "text/plain": [
       "6"
      ]
     },
     "execution_count": 184,
     "metadata": {},
     "output_type": "execute_result"
    }
   ],
   "source": [
    "max([1,2,3,5,6,3,])"
   ]
  },
  {
   "cell_type": "code",
   "execution_count": 167,
   "metadata": {},
   "outputs": [
    {
     "data": {
      "text/plain": [
       "[[2.5, 2.5], [1.0, 1.0, 1.0, 1.0, 1.0]]"
      ]
     },
     "execution_count": 167,
     "metadata": {},
     "output_type": "execute_result"
    }
   ],
   "source": [
    "a = [[1,1], [2,2,2,2,2]]\n",
    "b = [len(a) for a in a]\n",
    "print()\n",
    "[[1 * b[-1] / c] * c for c in b]"
   ]
  },
  {
   "cell_type": "code",
   "execution_count": 183,
   "metadata": {},
   "outputs": [
    {
     "name": "stdout",
     "output_type": "stream",
     "text": [
      "[[4 6]\n",
      " [5 3]]\n"
     ]
    }
   ],
   "source": [
    "b = np.array([[4,6], [5,3]])\n",
    "print(b)\n",
    "# [[1 * b[-1] / c] * c for c in b]"
   ]
  },
  {
   "cell_type": "code",
   "execution_count": 110,
   "metadata": {},
   "outputs": [
    {
     "data": {
      "image/png": "[encoded data removed]",
      "text/plain": [
       "<Figure size 432x288 with 1 Axes>"
      ]
     },
     "metadata": {
      "needs_background": "light"
     },
     "output_type": "display_data"
    }
   ],
   "source": [
    "import matplotlib.pyplot as plt\n",
    "import matplotlib.ticker as ticker\n",
    "\n",
    "fig, ax = plt.subplots()\n",
    "ax.axis([0.1, 10000, 0.01, 100000])\n",
    "ax.loglog()\n",
    "\n",
    "from matplotlib.ticker import ScalarFormatter\n",
    "for axis in [ax.xaxis, ax.yaxis]:\n",
    "    # axis.set_major_formatter(ScalarFormatter())\n",
    "    axis.set_major_formatter(ticker.FuncFormatter(lambda y,pos: ('{{:.{:1d}f}}'.format(int(np.maximum(-np.log10(max(y, 0.01)),0)))).format(y)))\n",
    "    \n",
    "plt.show()"
   ]
  },
  {
   "cell_type": "code",
   "execution_count": 94,
   "metadata": {},
   "outputs": [],
   "source": [
    "l = lambda y: ('{{:.{:1d}f}}'.format(int(np.maximum(-np.log10(y),0)))).format(y)"
   ]
  },
  {
   "cell_type": "code",
   "execution_count": 98,
   "metadata": {},
   "outputs": [
    {
     "data": {
      "text/plain": [
       "'0.00001'"
      ]
     },
     "execution_count": 98,
     "metadata": {},
     "output_type": "execute_result"
    }
   ],
   "source": [
    "l(0.00001)"
   ]
  },
  {
   "cell_type": "code",
   "execution_count": 109,
   "metadata": {},
   "outputs": [
    {
     "data": {
      "text/plain": [
       "2"
      ]
     },
     "execution_count": 109,
     "metadata": {},
     "output_type": "execute_result"
    }
   ],
   "source": [
    "y = 0.000001\n",
    "int(np.maximum(-np.log10(max(y, 0.01)),0))"
   ]
  },
  {
   "cell_type": "code",
   "execution_count": null,
   "metadata": {},
   "outputs": [],
   "source": []
  }
 ],
 "metadata": {
  "kernelspec": {
   "display_name": "Python 3",
   "language": "python",
   "name": "python3"
  },
  "language_info": {
   "codemirror_mode": {
    "name": "ipython",
    "version": 3
   },
   "file_extension": ".py",
   "mimetype": "text/x-python",
   "name": "python",
   "nbconvert_exporter": "python",
   "pygments_lexer": "ipython3",
   "version": "3.7.3"
  }
 },
 "nbformat": 4,
 "nbformat_minor": 2
}
