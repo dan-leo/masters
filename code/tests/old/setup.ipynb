{
 "cells": [
  {
   "cell_type": "code",
   "execution_count": 17,
   "metadata": {},
   "outputs": [
    {
     "name": "stdout",
     "output_type": "stream",
     "text": [
      "COM96               \n",
      "COM106              \n",
      "COM107              \n"
     ]
    },
    {
     "name": "stderr",
     "output_type": "stream",
     "text": [
      "3 ports found\n"
     ]
    }
   ],
   "source": [
    "!python -m serial.tools.list_ports"
   ]
  },
  {
   "cell_type": "code",
   "execution_count": 38,
   "metadata": {},
   "outputs": [
    {
     "ename": "NameError",
     "evalue": "name 'serTIM' is not defined",
     "output_type": "error",
     "traceback": [
      "\u001b[1;31m---------------------------------------------------------------------------\u001b[0m",
      "\u001b[1;31mNameError\u001b[0m                                 Traceback (most recent call last)",
      "\u001b[1;32m<ipython-input-38-91f73a0a532f>\u001b[0m in \u001b[0;36m<module>\u001b[1;34m\u001b[0m\n\u001b[0;32m      1\u001b[0m \u001b[0mserAT\u001b[0m\u001b[1;33m.\u001b[0m\u001b[0mclose\u001b[0m\u001b[1;33m(\u001b[0m\u001b[1;33m)\u001b[0m\u001b[1;33m\u001b[0m\u001b[1;33m\u001b[0m\u001b[0m\n\u001b[1;32m----> 2\u001b[1;33m \u001b[0mserTIM\u001b[0m\u001b[1;33m.\u001b[0m\u001b[0mclose\u001b[0m\u001b[1;33m(\u001b[0m\u001b[1;33m)\u001b[0m\u001b[1;33m\u001b[0m\u001b[1;33m\u001b[0m\u001b[0m\n\u001b[0m",
      "\u001b[1;31mNameError\u001b[0m: name 'serTIM' is not defined"
     ]
    }
   ],
   "source": [
    "serAT.close()\n",
    "serTIM.close()"
   ]
  },
  {
   "cell_type": "code",
   "execution_count": 25,
   "metadata": {},
   "outputs": [],
   "source": [
    "import serial\n",
    "# serTIM = serial.Serial('COM121', 115200, timeout=1)\n",
    "serAT = serial.Serial('COM106', 9600, timeout=1)\n",
    "# serGPS = serial.Serial('COM83', 9600, timeout=3)"
   ]
  },
  {
   "cell_type": "code",
   "execution_count": 23,
   "metadata": {},
   "outputs": [],
   "source": [
    "# from process.globals import *"
   ]
  },
  {
   "cell_type": "code",
   "execution_count": 26,
   "metadata": {},
   "outputs": [],
   "source": [
    "import colorama\n",
    "import sys\n",
    "import time\n",
    "import pytest\n",
    "import numpy as np\n",
    "import math\n",
    "import time\n",
    "import pynmea2\n",
    "\n",
    "from process import timing_bits as p\n",
    "from process import find as find\n",
    "# from process import serialcomms as s"
   ]
  },
  {
   "cell_type": "code",
   "execution_count": 27,
   "metadata": {},
   "outputs": [],
   "source": [
    "yellow = ''\n",
    "cyan = ''\n",
    "magenta = ''\n",
    "\n",
    "def sendTIM(cmd):\n",
    "    print(yellow + cmd)\n",
    "    serTIM.write(bytes(cmd + '\\r', 'utf-8'))\n",
    "\n",
    "def receiveTIM():\n",
    "    c = 0\n",
    "    a = []\n",
    "    b = []\n",
    "    g = 0\n",
    "    now = time.time()\n",
    "    while True and (time.time() - now < 600.0):\n",
    "        d = serTIM.readline().decode('utf-8')\n",
    "        if len(d):\n",
    "            d = d.strip()\n",
    "            a.append(d)\n",
    "            b.append(int(d.split(',')[0]))\n",
    "            print(white + d, blue + str(b))\n",
    "            g = find.guess_seq_len(b)\n",
    "            if g != 0:\n",
    "                print(magenta + str(g))\n",
    "                break\n",
    "    \n",
    "def sendAT(cmd, t=0, expect='OK'):\n",
    "    print(yellow + cmd)\n",
    "    serAT.write(bytes(cmd + '\\r', 'utf-8'))\n",
    "    return receiveAT(t, expect)\n",
    "\n",
    "def receiveAT(t=0, expect='OK'):\n",
    "    c = 0\n",
    "    data = []\n",
    "    while True:\n",
    "        d = serAT.readline().decode('utf-8')\n",
    "        if not len(d):\n",
    "            c += 1\n",
    "        d = d.strip()\n",
    "        if len(d) > 0:\n",
    "            print(cyan + d)\n",
    "            out = p.converter(d)\n",
    "            if out:\n",
    "                print(magenta + out)\n",
    "            data.append(d)\n",
    "        if t > 0:\n",
    "            if c == t:\n",
    "                data.append('timeout')\n",
    "                return data\n",
    "        if expect in d or 'ERROR' in d:\n",
    "            return data"
   ]
  },
  {
   "cell_type": "code",
   "execution_count": 28,
   "metadata": {},
   "outputs": [],
   "source": [
    "to_bin = lambda x, n: format(x, 'b').zfill(n)"
   ]
  },
  {
   "cell_type": "code",
   "execution_count": 29,
   "metadata": {},
   "outputs": [],
   "source": [
    "nw_edrx = [\"0010\",\"0011\",\"0010\",\"0101\",\"0010\",\"1001\",\"1010\",\"1011\",\"1100\",\"1101\",\"1110\",\"1111\",\"0010\",\"0011\",\"0010\",\"0101\",\"0010\",\"1001\",\"1010\",\"1011\",\"1100\",\"1101\",\"1110\",\"1111\",\"0010\",\"0011\",\"0010\",\"0101\",\"0010\",\"1001\",\"1010\",\"1011\",\"1100\",\"1101\",\"1110\",\"1111\",\"0010\",\"0011\",\"0010\",\"0101\",\"0010\",\"1001\",\"1010\",\"1011\",\"1100\",\"1101\",\"1110\",\"1111\",\"0010\",\"0011\",\"0010\",\"0101\",\"0010\",\"1001\",\"1010\",\"1011\",\"1100\",\"1101\",\"1110\",\"1111\",\"0010\",\"0011\",\"0010\",\"0101\",\"0010\",\"1001\",\"1010\",\"1011\",\"1100\",\"1101\",\"1110\",\"1111\",\"0010\",\"0011\",\"0010\",\"0101\",\"0010\",\"1001\",\"1010\",\"1011\",\"1100\",\"1101\",\"1110\",\"1111\",\"0010\",\"0011\",\"0010\",\"0101\",\"0010\",\"1001\",\"1010\",\"1011\",\"1100\",\"1101\",\"1110\",\"1111\",\"0010\",\"0011\",\"0010\",\"0101\",\"0010\",\"1001\",\"1010\",\"1011\",\"1100\",\"1101\",\"1110\",\"1111\",\"0010\",\"0011\",\"0010\",\"0101\",\"0010\",\"1001\",\"1010\",\"1011\",\"1100\",\"1101\",\"1110\",\"1111\"]\n",
    "nw_ptw  = [\"0000\",\"0000\",\"0000\",\"0000\",\"0000\",\"0000\",\"0000\",\"0000\",\"0000\",\"0000\",\"0000\",\"0000\",\"0001\",\"0001\",\"0001\",\"0001\",\"0001\",\"0001\",\"0001\",\"0001\",\"0001\",\"0001\",\"0001\",\"0001\",\"0010\",\"0010\",\"0010\",\"0010\",\"0010\",\"0010\",\"0010\",\"0010\",\"0010\",\"0010\",\"0010\",\"0010\",\"0011\",\"0011\",\"0011\",\"0011\",\"0011\",\"0011\",\"0011\",\"0011\",\"0011\",\"0011\",\"0011\",\"0011\",\"0100\",\"0100\",\"0100\",\"0100\",\"0100\",\"0100\",\"0100\",\"0100\",\"0100\",\"0100\",\"0100\",\"0100\",\"0101\",\"0101\",\"0101\",\"0101\",\"0101\",\"0101\",\"0101\",\"0101\",\"0101\",\"0101\",\"0101\",\"0101\",\"0110\",\"0110\",\"0110\",\"0110\",\"0110\",\"0110\",\"0110\",\"0110\",\"0110\",\"0110\",\"0110\",\"0110\",\"0111\",\"0111\",\"0111\",\"0111\",\"0111\",\"0111\",\"0111\",\"0111\",\"0111\",\"0111\",\"0111\",\"0111\",\"1000\",\"1000\",\"1000\",\"1000\",\"1000\",\"1000\",\"1000\",\"1000\",\"1000\",\"1000\",\"1000\",\"1000\",\"1001\",\"1001\",\"1001\",\"1001\",\"1001\",\"1001\",\"1001\",\"1001\",\"1001\",\"1001\",\"1001\",\"1001\"]"
   ]
  },
  {
   "cell_type": "code",
   "execution_count": 30,
   "metadata": {},
   "outputs": [],
   "source": [
    "def OK(cmd, t=0):\n",
    "    assert 'OK' in sendAT(cmd, t)\n",
    "\n",
    "def expect(cmd, reply, t=1):\n",
    "    data = sendAT(cmd, t, reply)\n",
    "    assert True in [reply in i for i in data]\n",
    "    return data"
   ]
  },
  {
   "cell_type": "code",
   "execution_count": 31,
   "metadata": {},
   "outputs": [],
   "source": [
    "def serialConnected():\n",
    "    assert serAT.is_open == True\n",
    "    assert serTIM.is_open == True\n",
    "    OK('AT')"
   ]
  },
  {
   "cell_type": "code",
   "execution_count": 32,
   "metadata": {},
   "outputs": [],
   "source": [
    "def initURC():\n",
    "    OK('AT+NCONFIG=\"AUTOCONNECT\",\"FALSE\"')\n",
    "    OK('AT+NCONFIG=\"CR_0859_SI_AVOID\",\"TRUE\"')\n",
    "    OK('AT+NCONFIG=\"CR_0354_0338_SCRAMBLING\",\"TRUE\"')\n",
    "    OK('AT+CMEE=1')\n",
    "    OK('AT+CSCON=1')\n",
    "    OK('AT+CEREG=5')\n",
    "    OK('AT+NPSMR=1')"
   ]
  },
  {
   "cell_type": "markdown",
   "metadata": {},
   "source": [
    " Set modem to full functionality."
   ]
  },
  {
   "cell_type": "code",
   "execution_count": 33,
   "metadata": {},
   "outputs": [],
   "source": [
    "def fullFuctionality():\n",
    "    OK('AT+CFUN=0', 3)\n",
    "    # expect('at+cfun?', '+CFUN: 0', 1)\n",
    "    expect('AT+CFUN=1', '+CEREG: 0', 2)\n",
    "    receiveAT()"
   ]
  },
  {
   "cell_type": "markdown",
   "metadata": {},
   "source": [
    "Network registration attempt"
   ]
  },
  {
   "cell_type": "code",
   "execution_count": 34,
   "metadata": {},
   "outputs": [],
   "source": [
    "def registerNetwork():\n",
    "    expect('AT+COPS=0', '+CEREG: 1', 10)"
   ]
  },
  {
   "cell_type": "markdown",
   "metadata": {},
   "source": [
    "Network registration successful"
   ]
  },
  {
   "cell_type": "code",
   "execution_count": 35,
   "metadata": {},
   "outputs": [],
   "source": [
    "def successfulRegistration():\n",
    "    expect('AT+CEREG?', '+CEREG: 5,1')"
   ]
  },
  {
   "cell_type": "markdown",
   "metadata": {},
   "source": [
    "Ping test"
   ]
  },
  {
   "cell_type": "code",
   "execution_count": 36,
   "metadata": {},
   "outputs": [],
   "source": [
    "def ping():\n",
    "    expect('at+nping=\"8.8.8.8\"', '+NPING: \"8.8.8.8\"', 10)"
   ]
  },
  {
   "cell_type": "markdown",
   "metadata": {},
   "source": [
    "Release from network"
   ]
  },
  {
   "cell_type": "code",
   "execution_count": 37,
   "metadata": {},
   "outputs": [],
   "source": [
    "def releaseNetwork():\n",
    "    expect('at+cops=2', '+NPSMR: 1', 10)\n",
    "    expect('at+cops=0', '+CEREG: 1', 10)\n",
    "    OK('AT+NSOCR=\"DGRAM\",17,14000,1')\n",
    "    expect('AT+NSOSTF=0,\"1.1.1.1\",7,0x200,1,\"FF\"', '+CSCON: 0', 10)\n",
    "    OK('at+nsocl=0')"
   ]
  },
  {
   "cell_type": "markdown",
   "metadata": {},
   "source": [
    "Setup"
   ]
  },
  {
   "cell_type": "code",
   "execution_count": 20,
   "metadata": {},
   "outputs": [],
   "source": [
    "def setup():\n",
    "    serialConnected()\n",
    "    initURC()\n",
    "    fullFuctionality()\n",
    "    registerNetwork()\n",
    "    successfulRegistration()\n",
    "    ping()\n",
    "#     releaseNetwork()"
   ]
  },
  {
   "cell_type": "code",
   "execution_count": 21,
   "metadata": {},
   "outputs": [
    {
     "name": "stdout",
     "output_type": "stream",
     "text": [
      "AT\n",
      "OK\n",
      "AT+NCONFIG=\"AUTOCONNECT\",\"FALSE\"\n",
      "OK\n",
      "AT+NCONFIG=\"CR_0859_SI_AVOID\",\"TRUE\"\n",
      "OK\n",
      "AT+NCONFIG=\"CR_0354_0338_SCRAMBLING\",\"TRUE\"\n",
      "OK\n",
      "AT+CMEE=1\n",
      "OK\n",
      "AT+CSCON=1\n",
      "OK\n",
      "AT+CEREG=5\n",
      "OK\n",
      "AT+NPSMR=1\n",
      "OK\n",
      "AT+CFUN=0\n",
      "OK\n",
      "AT+CFUN=1\n",
      "+CEREG: 0,\"0000\",\"0\",7,,,,\n",
      "OK\n",
      "AT+COPS=0\n",
      "OK\n",
      "+CEREG: 2,\"0000\",\"0\",7,,,,\n",
      "+CSCON: 1\n",
      "+CEREG: 1,\"8CA7\",\"28C465\",7,,,\"00010000\",\n",
      "Active T3324: 32 seconds, Periodic T3412: failed\n",
      "AT+CEREG?\n",
      "+CEREG: 5,1,\"8CA7\",\"28C465\",7,,,\"00010000\",\n",
      "at+nping=\"8.8.8.8\"\n",
      "OK\n",
      "OK\n",
      "+NPING: \"8.8.8.8\",53,518\n"
     ]
    }
   ],
   "source": [
    "setup()"
   ]
  },
  {
   "cell_type": "code",
   "execution_count": 7,
   "metadata": {},
   "outputs": [
    {
     "name": "stdout",
     "output_type": "stream",
     "text": [
      "COM38               \n",
      "COM39               \n",
      "COM121              \n"
     ]
    },
    {
     "name": "stderr",
     "output_type": "stream",
     "text": [
      "3 ports found\n"
     ]
    }
   ],
   "source": [
    "!python -m serial.tools.list_ports"
   ]
  },
  {
   "cell_type": "code",
   "execution_count": 8,
   "metadata": {},
   "outputs": [
    {
     "name": "stdout",
     "output_type": "stream",
     "text": [
      "============================= test session starts =============================\n",
      "platform win32 -- Python 3.7.3, pytest-4.6.2, py-1.8.0, pluggy-0.12.0 -- c:\\users\\d7rob\\appdata\\local\\programs\\python\\python37\\python.exe\n",
      "cachedir: .pytest_cache\n",
      "rootdir: C:\\GIT\\masters\\code\\tests, inifile: pytest.ini\n",
      "collecting ... collected 17 items / 16 deselected / 1 selected\n",
      "\n",
      "test_eDRX.py::test_connect PASSED                                        [100%]\n",
      "\n",
      "=================== 1 passed, 16 deselected in 0.29 seconds ===================\n"
     ]
    }
   ],
   "source": [
    "!pytest -vk connect"
   ]
  },
  {
   "cell_type": "code",
   "execution_count": 9,
   "metadata": {},
   "outputs": [],
   "source": [
    "tIDRX = [1.28, 2.56, 5.12, 7.68]\n",
    "tEDRX = [10.24, 20.48, 40.96, 81.92, 163.84,\n",
    "         327.68, 655.36, 1310.72, 1966.08, 2621.44]\n",
    "tPTW = [2.56, 5.12, 7.68, 10.24, 12.8, 15.36, 17.92, 20.48,\n",
    "        23.04, 25.6, 28.16, 30.72, 33.28, 35.84, 38.4, 40.96]\n",
    "tActive = [2, 4, 6, 8, 10, 12, 14, 60, 120, 180, 240,\n",
    "           300, 360, 420, 720, 1080, 1440, 1800, 2160, 2520]\n",
    "tPeriodicTau = [2, 4, 6, 8, 10, 12, 14, 30, 60, 90, 120, 150, 180, 210, 240, 300, 360, 420, 600, 1200, 1800, 2400, 3000, 3600, 4200, 7200, 10800,\n",
    "                14400, 18000, 21600, 25200, 36000, 72000, 108000, 144000, 180000, 216000, 252000, 1152000, 2304000, 3456000, 4608000, 5760000, 6912000, 8064000]"
   ]
  },
  {
   "cell_type": "code",
   "execution_count": 14,
   "metadata": {},
   "outputs": [
    {
     "name": "stdout",
     "output_type": "stream",
     "text": [
      "10 16 20 45\n"
     ]
    }
   ],
   "source": [
    "print(len(tEDRX), len(tPTW), len(tActive), len(tPeriodicTau))"
   ]
  },
  {
   "cell_type": "code",
   "execution_count": 15,
   "metadata": {},
   "outputs": [
    {
     "data": {
      "text/plain": [
       "144000"
      ]
     },
     "execution_count": 15,
     "metadata": {},
     "output_type": "execute_result"
    }
   ],
   "source": [
    "10 * 16 * 20 * 45"
   ]
  },
  {
   "cell_type": "code",
   "execution_count": 67,
   "metadata": {},
   "outputs": [
    {
     "data": {
      "text/plain": [
       "['NUESTATS: \"RADIO\",\"Signal power\",-487',\n",
       " 'NUESTATS: \"RADIO\",\"Total power\",-401',\n",
       " 'NUESTATS: \"RADIO\",\"TX power\",-70',\n",
       " 'NUESTATS: \"RADIO\",\"TX time\",2017',\n",
       " 'NUESTATS: \"RADIO\",\"RX time\",10709',\n",
       " 'NUESTATS: \"RADIO\",\"Cell ID\",2671717',\n",
       " 'NUESTATS: \"RADIO\",\"ECL\",0',\n",
       " 'NUESTATS: \"RADIO\",\"SNR\",110',\n",
       " 'NUESTATS: \"RADIO\",\"EARFCN\",3712',\n",
       " 'NUESTATS: \"RADIO\",\"PCI\",234',\n",
       " 'NUESTATS: \"RADIO\",\"RSRQ\",-110',\n",
       " 'NUESTATS: \"BLER\",\"RLC UL BLER\",0',\n",
       " 'NUESTATS: \"BLER\",\"RLC DL BLER\",0',\n",
       " 'NUESTATS: \"BLER\",\"MAC UL BLER\",0',\n",
       " 'NUESTATS: \"BLER\",\"MAC DL BLER\",0',\n",
       " 'NUESTATS: \"BLER\",\"Total TX bytes\",1952',\n",
       " 'NUESTATS: \"BLER\",\"Total RX bytes\",1482',\n",
       " 'NUESTATS: \"BLER\",\"Total TX blocks\",51',\n",
       " 'NUESTATS: \"BLER\",\"Total RX blocks\",51',\n",
       " 'NUESTATS: \"BLER\",\"Total RTX blocks\",0',\n",
       " 'NUESTATS: \"BLER\",\"Total ACK/NACK RX\",0',\n",
       " 'NUESTATS: \"THP\",\"RLC UL\",0',\n",
       " 'NUESTATS: \"THP\",\"RLC DL\",0',\n",
       " 'NUESTATS: \"THP\",\"MAC UL\",0',\n",
       " 'NUESTATS: \"THP\",\"MAC DL\",0',\n",
       " 'NUESTATS: \"APPSMEM\",\"Current Allocated\":16096',\n",
       " 'NUESTATS: \"APPSMEM\",\"Total Free\":6904',\n",
       " 'NUESTATS: \"APPSMEM\",\"Max Free\":6904',\n",
       " 'NUESTATS: \"APPSMEM\",\"Num Allocs\":1001',\n",
       " 'NUESTATS: \"APPSMEM\",\"Num Frees\":937']"
      ]
     },
     "execution_count": 67,
     "metadata": {},
     "output_type": "execute_result"
    }
   ],
   "source": [
    "r = ['NUESTATS: \"RADIO\",\"Signal power\",-487', 'NUESTATS: \"RADIO\",\"Total power\",-401', 'NUESTATS: \"RADIO\",\"TX power\",-70', 'NUESTATS: \"RADIO\",\"TX time\",2017', 'NUESTATS: \"RADIO\",\"RX time\",10709', 'NUESTATS: \"RADIO\",\"Cell ID\",2671717', 'NUESTATS: \"RADIO\",\"ECL\",0', 'NUESTATS: \"RADIO\",\"SNR\",110', 'NUESTATS: \"RADIO\",\"EARFCN\",3712', 'NUESTATS: \"RADIO\",\"PCI\",234', 'NUESTATS: \"RADIO\",\"RSRQ\",-110', 'NUESTATS: \"BLER\",\"RLC UL BLER\",0', 'NUESTATS: \"BLER\",\"RLC DL BLER\",0', 'NUESTATS: \"BLER\",\"MAC UL BLER\",0', 'NUESTATS: \"BLER\",\"MAC DL BLER\",0', 'NUESTATS: \"BLER\",\"Total TX bytes\",1952', 'NUESTATS: \"BLER\",\"Total RX bytes\",1482', 'NUESTATS: \"BLER\",\"Total TX blocks\",51', 'NUESTATS: \"BLER\",\"Total RX blocks\",51', 'NUESTATS: \"BLER\",\"Total RTX blocks\",0', 'NUESTATS: \"BLER\",\"Total ACK/NACK RX\",0', 'NUESTATS: \"THP\",\"RLC UL\",0', 'NUESTATS: \"THP\",\"RLC DL\",0', 'NUESTATS: \"THP\",\"MAC UL\",0', 'NUESTATS: \"THP\",\"MAC DL\",0', 'NUESTATS: \"APPSMEM\",\"Current Allocated\":16096', 'NUESTATS: \"APPSMEM\",\"Total Free\":6904', 'NUESTATS: \"APPSMEM\",\"Max Free\":6904', 'NUESTATS: \"APPSMEM\",\"Num Allocs\":1001', 'NUESTATS: \"APPSMEM\",\"Num Frees\":937', 'OK']\n",
    "r = r[:-1]\n",
    "r"
   ]
  },
  {
   "cell_type": "code",
   "execution_count": 82,
   "metadata": {},
   "outputs": [
    {
     "name": "stdout",
     "output_type": "stream",
     "text": [
      "-487,-401,-70,2017,10709,2671717,0,110,3712,234,-110,0,0,0,0,1952,1482,51,51,0,0,0,0,0,0,16096,6904,6904,1001,937,"
     ]
    }
   ],
   "source": [
    "dr = {}\n",
    "for i in r:\n",
    "    j = i.split(',')\n",
    "    if j[0] != 'NUESTATS: \"APPSMEM\"':\n",
    "        dr[j[1]] = j[2]\n",
    "    else:\n",
    "        dr[j[1].split(':')[0]] = j[1].split(':')[1]\n",
    "    \n",
    "dr\n",
    "for key in dr:\n",
    "    print(dr[key], end=\",\")"
   ]
  },
  {
   "cell_type": "code",
   "execution_count": null,
   "metadata": {},
   "outputs": [],
   "source": []
  }
 ],
 "metadata": {
  "kernelspec": {
   "display_name": "Python 3",
   "language": "python",
   "name": "python3"
  },
  "language_info": {
   "codemirror_mode": {
    "name": "ipython",
    "version": 3
   },
   "file_extension": ".py",
   "mimetype": "text/x-python",
   "name": "python",
   "nbconvert_exporter": "python",
   "pygments_lexer": "ipython3",
   "version": "3.7.3"
  }
 },
 "nbformat": 4,
 "nbformat_minor": 2
}
